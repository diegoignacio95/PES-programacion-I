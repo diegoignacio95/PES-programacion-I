{
 "cells": [
  {
   "cell_type": "markdown",
   "metadata": {},
   "source": [
    "# Tarea #6\n",
    "**Programacion I**\n",
    "## Diego Sánchez"
   ]
  },
  {
   "cell_type": "markdown",
   "metadata": {},
   "source": [
    "## Ejercicio 1\n",
    "\n",
    "Ejecute el siguiente programa y explique su procedimiento y el porqué del resultado. "
   ]
  },
  {
   "cell_type": "code",
   "execution_count": 1,
   "metadata": {},
   "outputs": [
    {
     "ename": "RecursionError",
     "evalue": "maximum recursion depth exceeded",
     "output_type": "error",
     "traceback": [
      "\u001b[1;31m---------------------------------------------------------------------------\u001b[0m",
      "\u001b[1;31mRecursionError\u001b[0m                            Traceback (most recent call last)",
      "\u001b[1;32m<ipython-input-1-00d266b39dc6>\u001b[0m in \u001b[0;36m<module>\u001b[1;34m\u001b[0m\n\u001b[0;32m      2\u001b[0m     \u001b[0mf\u001b[0m\u001b[1;33m(\u001b[0m\u001b[0mf\u001b[0m\u001b[1;33m)\u001b[0m\u001b[1;33m\u001b[0m\u001b[1;33m\u001b[0m\u001b[0m\n\u001b[0;32m      3\u001b[0m \u001b[1;33m\u001b[0m\u001b[0m\n\u001b[1;32m----> 4\u001b[1;33m \u001b[0mRecusion\u001b[0m\u001b[1;33m(\u001b[0m\u001b[0mRecusion\u001b[0m\u001b[1;33m)\u001b[0m\u001b[1;33m\u001b[0m\u001b[1;33m\u001b[0m\u001b[0m\n\u001b[0m",
      "\u001b[1;32m<ipython-input-1-00d266b39dc6>\u001b[0m in \u001b[0;36mRecusion\u001b[1;34m(f)\u001b[0m\n\u001b[0;32m      1\u001b[0m \u001b[1;32mdef\u001b[0m \u001b[0mRecusion\u001b[0m\u001b[1;33m(\u001b[0m\u001b[0mf\u001b[0m\u001b[1;33m)\u001b[0m\u001b[1;33m:\u001b[0m\u001b[1;33m\u001b[0m\u001b[1;33m\u001b[0m\u001b[0m\n\u001b[1;32m----> 2\u001b[1;33m     \u001b[0mf\u001b[0m\u001b[1;33m(\u001b[0m\u001b[0mf\u001b[0m\u001b[1;33m)\u001b[0m\u001b[1;33m\u001b[0m\u001b[1;33m\u001b[0m\u001b[0m\n\u001b[0m\u001b[0;32m      3\u001b[0m \u001b[1;33m\u001b[0m\u001b[0m\n\u001b[0;32m      4\u001b[0m \u001b[0mRecusion\u001b[0m\u001b[1;33m(\u001b[0m\u001b[0mRecusion\u001b[0m\u001b[1;33m)\u001b[0m\u001b[1;33m\u001b[0m\u001b[1;33m\u001b[0m\u001b[0m\n",
      "... last 1 frames repeated, from the frame below ...\n",
      "\u001b[1;32m<ipython-input-1-00d266b39dc6>\u001b[0m in \u001b[0;36mRecusion\u001b[1;34m(f)\u001b[0m\n\u001b[0;32m      1\u001b[0m \u001b[1;32mdef\u001b[0m \u001b[0mRecusion\u001b[0m\u001b[1;33m(\u001b[0m\u001b[0mf\u001b[0m\u001b[1;33m)\u001b[0m\u001b[1;33m:\u001b[0m\u001b[1;33m\u001b[0m\u001b[1;33m\u001b[0m\u001b[0m\n\u001b[1;32m----> 2\u001b[1;33m     \u001b[0mf\u001b[0m\u001b[1;33m(\u001b[0m\u001b[0mf\u001b[0m\u001b[1;33m)\u001b[0m\u001b[1;33m\u001b[0m\u001b[1;33m\u001b[0m\u001b[0m\n\u001b[0m\u001b[0;32m      3\u001b[0m \u001b[1;33m\u001b[0m\u001b[0m\n\u001b[0;32m      4\u001b[0m \u001b[0mRecusion\u001b[0m\u001b[1;33m(\u001b[0m\u001b[0mRecusion\u001b[0m\u001b[1;33m)\u001b[0m\u001b[1;33m\u001b[0m\u001b[1;33m\u001b[0m\u001b[0m\n",
      "\u001b[1;31mRecursionError\u001b[0m: maximum recursion depth exceeded"
     ]
    }
   ],
   "source": [
    "def Recusion(f):\n",
    "    f(f)\n",
    "    \n",
    "Recusion(Recusion)"
   ]
  },
  {
   "cell_type": "markdown",
   "metadata": {},
   "source": [
    "Definimos una función que recibe un parámetro f.\n",
    "Luego dentro de la función se usa ese mismo parámetro y se le pide que use el mismo parámetro.\n",
    "a la función recusión, se usa como parámetro recusión.\n",
    "Por tanto se obtiene un ciclo infinito."
   ]
  },
  {
   "cell_type": "markdown",
   "metadata": {},
   "source": [
    "## Ejercicio 2\n",
    "\n",
    "Vea el siguiente vídeo: <https://www.youtube.com/watch?v=qxRW5pDT2o4>  \n",
    "\n",
    "Complete el código siguiente para encontrar el máximo común divisor dado dos números enteros. \n",
    "\n",
    "Las condiciones básicas, son:"
   ]
  },
  {
   "cell_type": "markdown",
   "metadata": {},
   "source": [
    "Para dos números $a$ y $b$, tal que $b\\leq a$:\n",
    "* $mcd(a,0) = a$\n",
    "* Si $b\\vert a$ (divida enteramente), entonces $mcd(a,b)=b$\n",
    "* En otro caso, $mcd(a,b) = mcd(b,a \\,mod \\, b)$\n",
    "\n"
   ]
  },
  {
   "cell_type": "code",
   "execution_count": 24,
   "metadata": {},
   "outputs": [
    {
     "data": {
      "text/plain": [
       "7"
      ]
     },
     "execution_count": 24,
     "metadata": {},
     "output_type": "execute_result"
    }
   ],
   "source": [
    "def mcd(a,b):\n",
    "    '''Donde a >= b'''\n",
    "    if b==0: #Encuentre la condición:\n",
    "        return a\n",
    "    elif b % a== 0 : #Añada la condición faltante:\n",
    "        return b\n",
    "        \n",
    "    else: \n",
    "        return  mcd(b,a%b) \n",
    "    \n",
    "mcd(21,7)    "
   ]
  },
  {
   "cell_type": "markdown",
   "metadata": {},
   "source": [
    "## Ejercicio 3\n",
    "\n",
    "Implemente un algoritmo recursivo para obtener la parte entera de la división entre dos números enteros. (Pista: Asocie con la resta)."
   ]
  },
  {
   "cell_type": "code",
   "execution_count": 39,
   "metadata": {},
   "outputs": [
    {
     "data": {
      "text/plain": [
       "7"
      ]
     },
     "execution_count": 39,
     "metadata": {},
     "output_type": "execute_result"
    }
   ],
   "source": [
    "def parte_entera(b,a):\n",
    "    \"\"\"Aquí b > a\"\"\"\n",
    "    if b-a==0:\n",
    "        return (1)\n",
    "   \n",
    "    elif b - a < a:\n",
    "        return (1)\n",
    "   \n",
    "    else:\n",
    "        return 1 + parte_entera((b-a),a)\n",
    "    \n",
    "parte_entera(37,5)    "
   ]
  },
  {
   "cell_type": "markdown",
   "metadata": {},
   "source": [
    "# Ejercicio 4\n",
    "\n",
    "En el ejemplo de clase (Coordinate), modifique el método constructor para que verifique que los argumentos $x$ y $y$ sean flotantes.  "
   ]
  },
  {
   "cell_type": "code",
   "execution_count": 53,
   "metadata": {},
   "outputs": [],
   "source": [
    "class Coordinate(object):\n",
    "    #Atributos (datos, funciones)\n",
    "    #...\n",
    "    #Método constructor\n",
    "    \n",
    "    def __init__(self, x, y):\n",
    "        \"\"\" x e y son float \"\"\"\n",
    "        assert type(x) == float and type(y) == float, \"ints not used\"\n",
    "        self.x = x\n",
    "        self.y = y\n",
    "    def __str__(self):\n",
    "        return \"Coordinate <%0.4f,%0.4f>\" %(self.x,self.y)\n",
    "    "
   ]
  },
  {
   "cell_type": "code",
   "execution_count": 54,
   "metadata": {},
   "outputs": [
    {
     "data": {
      "text/plain": [
       "<__main__.Coordinate at 0x233ef157648>"
      ]
     },
     "execution_count": 54,
     "metadata": {},
     "output_type": "execute_result"
    }
   ],
   "source": [
    "origen=Coordinate(0.5,3.2)\n",
    "origen\n"
   ]
  },
  {
   "cell_type": "code",
   "execution_count": 55,
   "metadata": {},
   "outputs": [
    {
     "name": "stdout",
     "output_type": "stream",
     "text": [
      "Coordinate <0.5000,3.2000>\n"
     ]
    }
   ],
   "source": [
    "print(origen)"
   ]
  },
  {
   "cell_type": "markdown",
   "metadata": {},
   "source": [
    "# Ejercicio 5\n",
    "\n",
    "1. Cree una clase llamada ``Persona``, que asigne una cadena a la propiedad ``nombre`` y un número entero a la propiedad ``edad``. Al imprimir el objeto, debe concatenar tanto el nombre con la edad. \n",
    "2. A la clase anterior, añada un método para sumar dos objetos de tipo ``Persona``. El resultado debe ser ambos nombres concatenados y la suma de ambas edades.\n",
    "3. Modifique la clase para que el objeto tenga otra propiedad llamada ``altura``. Cuando se solicite la longitud del objeto, muestre la altura. También debe modificar el método de impresión para que muestre la altura. ¿Qué pasa con el método de suma?\n",
    "\n"
   ]
  },
  {
   "cell_type": "code",
   "execution_count": 90,
   "metadata": {},
   "outputs": [],
   "source": [
    "class persona(object):\n",
    "    \n",
    "    def __init__ (self, nombre, edad, altura):\n",
    "       \n",
    "        self.nombre = str(nombre)\n",
    "        self.edad = int(edad) \n",
    "        self.altura = float(altura)\n",
    "        \n",
    "    def __str__(self):\n",
    "        return \"%s de %d y altura %0.2f\" %(self.nombre,self.edad,self.altura)    \n",
    "    \n",
    "    def __add__(self, other):\n",
    "        return persona ((self.nombre + \" \"+ other.nombre),(self.edad+other.edad),(self.altura+other.altura))\n",
    "        "
   ]
  },
  {
   "cell_type": "code",
   "execution_count": 91,
   "metadata": {},
   "outputs": [
    {
     "name": "stdout",
     "output_type": "stream",
     "text": [
      "escriba su nombre: Diego\n",
      "escriba su edad: 24\n",
      "escriba su estatura: 1.65\n",
      "Diego de 24 y altura 1.65\n"
     ]
    }
   ],
   "source": [
    "nombre = input(\"escriba su nombre: \")\n",
    "edad = int(input(\"escriba su edad: \"))\n",
    "estatura=float(input(\"escriba su estatura: \"))\n",
    "\n",
    "v1=persona(nombre,edad,estatura)\n",
    "print (v1)"
   ]
  },
  {
   "cell_type": "code",
   "execution_count": 92,
   "metadata": {},
   "outputs": [
    {
     "name": "stdout",
     "output_type": "stream",
     "text": [
      "escriba su nombre: Diego2\n",
      "escriba su edad: 25\n",
      "escriba su estatura: 1.65\n"
     ]
    }
   ],
   "source": [
    "nombre = input(\"escriba su nombre: \")\n",
    "edad = int(input(\"escriba su edad: \"))\n",
    "estatura=float(input(\"escriba su estatura: \"))\n",
    "\n",
    "v2=persona(nombre,edad,estatura)"
   ]
  },
  {
   "cell_type": "code",
   "execution_count": 93,
   "metadata": {},
   "outputs": [
    {
     "name": "stdout",
     "output_type": "stream",
     "text": [
      "Diego Diego2 de 49 y altura 3.30\n"
     ]
    }
   ],
   "source": [
    "conca=v1+v2\n",
    "print(conca)"
   ]
  },
  {
   "cell_type": "markdown",
   "metadata": {},
   "source": [
    "# Ahora la altura también se suma, pues está en la función str que imprime"
   ]
  },
  {
   "cell_type": "markdown",
   "metadata": {},
   "source": [
    "# Ejercicios asignados por Rodrigo Chang"
   ]
  },
  {
   "cell_type": "code",
   "execution_count": 10,
   "metadata": {},
   "outputs": [],
   "source": [
    "#Ejercicio de la canasta:\n",
    "\n",
    "class canasta(object):\n",
    "    def __init__(self, cerveza, ocio, ceviche):\n",
    "       \n",
    "        self.cerveza = int(cerveza)\n",
    "        self.ocio = int(ocio) \n",
    "        self.ceviche = int(ceviche)\n",
    "        \n",
    "    def u(self):\n",
    "        return((self.cerveza**0.3)*(self.ocio**0.6)*(self.ceviche**0.1))  \n",
    "    \n",
    "        \n",
    "    def __lt__(self, other):\n",
    "        z=(self.u() - other.u())\n",
    "        if z>0:\n",
    "            print(\"la canasta a, es preferida\")\n",
    "            \n",
    "        if z<0:\n",
    "            print(\"la canasta b, es preferida\")\n",
    "        \n",
    "        else:\n",
    "            print(\"Las canastas son indiferentes\")\n",
    "   \n",
    "    def __str__(self):\n",
    "        \n",
    "        return \"La canasta contiene %d tarros, %d horas, %d platos\"%(self.cerveza, self.ocio,self.ceviche )  \n",
    "        \n",
    "    "
   ]
  },
  {
   "cell_type": "code",
   "execution_count": 11,
   "metadata": {},
   "outputs": [
    {
     "name": "stdout",
     "output_type": "stream",
     "text": [
      "La canasta contiene 25 tarros, 32 horas, 80 platos\n"
     ]
    }
   ],
   "source": [
    "c1=canasta(25,32,80)\n",
    "print(c1)"
   ]
  },
  {
   "cell_type": "code",
   "execution_count": 213,
   "metadata": {},
   "outputs": [],
   "source": [
    "c2=canasta(25,32,80)"
   ]
  },
  {
   "cell_type": "code",
   "execution_count": 215,
   "metadata": {},
   "outputs": [
    {
     "name": "stdout",
     "output_type": "stream",
     "text": [
      "Las canastas son indiferentes\n"
     ]
    }
   ],
   "source": [
    "c1<c2"
   ]
  },
  {
   "cell_type": "code",
   "execution_count": null,
   "metadata": {},
   "outputs": [],
   "source": []
  },
  {
   "cell_type": "code",
   "execution_count": 182,
   "metadata": {},
   "outputs": [],
   "source": [
    "# Ejercicio de encriptar\n",
    "\n",
    "class encriptacion(object):\n",
    "    \n",
    "    def __init__(self, msg):\n",
    "        self.msg = str(msg)\n",
    "        \n",
    "    def encriptar(self):\n",
    "        nuevo=\"\"\n",
    "        \n",
    "        for i in range(len(self.msg)):\n",
    "            nuevo+=chr(ord(self.msg[i])+3)\n",
    "        return encriptacion(nuevo)\n",
    "            \n",
    "    def __str__(self):\n",
    "        return (\"mensaje encriptado es: \" + self.msg)"
   ]
  },
  {
   "cell_type": "code",
   "execution_count": 183,
   "metadata": {},
   "outputs": [
    {
     "name": "stdout",
     "output_type": "stream",
     "text": [
      "mensaje encriptado es: Krod#vr|#Glhjr\n",
      "mensaje encriptado es: Krod#vr|#Glhjr\n"
     ]
    }
   ],
   "source": [
    "mensaje = encriptacion(\"Hola soy Diego\")\n",
    "print(encriptacion.encriptar(mensaje))\n",
    "print(mensaje.encriptar())"
   ]
  },
  {
   "cell_type": "code",
   "execution_count": 100,
   "metadata": {},
   "outputs": [
    {
     "data": {
      "text/plain": [
       "32"
      ]
     },
     "execution_count": 100,
     "metadata": {},
     "output_type": "execute_result"
    }
   ],
   "source": []
  }
 ],
 "metadata": {
  "kernelspec": {
   "display_name": "Python 3",
   "language": "python",
   "name": "python3"
  },
  "language_info": {
   "codemirror_mode": {
    "name": "ipython",
    "version": 3
   },
   "file_extension": ".py",
   "mimetype": "text/x-python",
   "name": "python",
   "nbconvert_exporter": "python",
   "pygments_lexer": "ipython3",
   "version": "3.7.4"
  }
 },
 "nbformat": 4,
 "nbformat_minor": 2
}
