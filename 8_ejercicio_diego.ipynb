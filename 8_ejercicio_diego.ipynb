{
 "cells": [
  {
   "cell_type": "markdown",
   "metadata": {},
   "source": [
    "# Ejercicio día 8\n",
    "**Programación I**"
   ]
  },
  {
   "cell_type": "markdown",
   "metadata": {},
   "source": [
    "## Ejercicio 1\n",
    "\n",
    "Cree una matriz que contenga ceros. Rellene la mitad de ellos aleatoriamente con unos."
   ]
  },
  {
   "cell_type": "code",
   "execution_count": 1,
   "metadata": {},
   "outputs": [],
   "source": [
    "import numpy as np"
   ]
  },
  {
   "cell_type": "code",
   "execution_count": 2,
   "metadata": {},
   "outputs": [
    {
     "ename": "SyntaxError",
     "evalue": "invalid syntax (<ipython-input-2-e8f58d26ca08>, line 9)",
     "output_type": "error",
     "traceback": [
      "\u001b[1;36m  File \u001b[1;32m\"<ipython-input-2-e8f58d26ca08>\"\u001b[1;36m, line \u001b[1;32m9\u001b[0m\n\u001b[1;33m    x[z]=1\u001b[0m\n\u001b[1;37m    ^\u001b[0m\n\u001b[1;31mSyntaxError\u001b[0m\u001b[1;31m:\u001b[0m invalid syntax\n"
     ]
    }
   ],
   "source": [
    "#x=10\n",
    "#y=10\n",
    "#mat1=np.zeros([x,y])\n",
    "#y=np.arange(100)\n",
    "\n",
    "#z=np.random.choice(y,int(x*(y/2),replace==false))\n",
    "\n",
    "z=np.random.choice(2,int(10*(10/2),replace=false)\n",
    "x[z]=1                   \n",
    "x.resize(10,10)"
   ]
  },
  {
   "cell_type": "markdown",
   "metadata": {},
   "source": [
    "## Ejercicio 2\n",
    "Cree dos matrices de dimensiones $(5,2)$. La primera rellena de ceros y la siguiente de unos. \n",
    "1.\tConvierta las matrices en vectores columna. \n",
    "2.\tApile ambos vectores a lo largo de una tercera dimensión. \n",
    "3.\tCon las matrices originales, conviértalas en vectores fila y concaténelos verticalmente. \n",
    "\n"
   ]
  },
  {
   "cell_type": "code",
   "execution_count": null,
   "metadata": {},
   "outputs": [],
   "source": [
    "mat1=np.zeros([5,2]) #Genera matriz de 0s de tamaño 5x2\n",
    "mat2=np.ones([5,2]) #Genera matriz de 1s de tamaño 5x2"
   ]
  },
  {
   "cell_type": "code",
   "execution_count": null,
   "metadata": {},
   "outputs": [],
   "source": [
    "col1=mat1.flatten(\"F\") #Flatten, sirve para hacer un vector fila o columa, \"F\" sirve para agarrar todos los valores\n",
    "col2=mat2.flatten(\"F\")\n",
    "a1=col1.reshape(10,1) #Hace que ahora la matriz sea vector columna"
   ]
  },
  {
   "cell_type": "code",
   "execution_count": null,
   "metadata": {},
   "outputs": [],
   "source": [
    "a2=col2.reshape(10,1) #Hace qie ahora la matriz sea vector columna"
   ]
  },
  {
   "cell_type": "code",
   "execution_count": null,
   "metadata": {},
   "outputs": [],
   "source": [
    "v1=a1[:np.newaxis] #método que agrega otra dimensión, de este lado salen las columnas.\n",
    "v2=a2[:np.newaxis] "
   ]
  },
  {
   "cell_type": "code",
   "execution_count": null,
   "metadata": {},
   "outputs": [],
   "source": [
    "np.dstack((v1,v2)) #apila los vectores en una tercera dimensión"
   ]
  },
  {
   "cell_type": "code",
   "execution_count": null,
   "metadata": {},
   "outputs": [],
   "source": [
    "a3=col1.reshape(1,10)\n",
    "a4=col1.reshape(1,10) #ahora los hice fila"
   ]
  },
  {
   "cell_type": "code",
   "execution_count": null,
   "metadata": {},
   "outputs": [],
   "source": [
    "np.vstack((a3,a4)) #las apila de forma vertical"
   ]
  },
  {
   "cell_type": "markdown",
   "metadata": {},
   "source": [
    "## Ejercicio 3\n",
    "\n",
    "Dada la función $f(x,y,z) = 2x +3y + z^2$\n",
    "1.\tGenere una matriz con números aleatorios para cada variable. \n",
    "2.\tEvalúe la matriz anterior en la función. El resultado debe ser una matriz. "
   ]
  },
  {
   "cell_type": "code",
   "execution_count": null,
   "metadata": {},
   "outputs": [],
   "source": [
    "x=np.random.random([10,1])*100 #creamos vectores columna\n",
    "y=np.random.random([10,1])*100\n",
    "z=np.random.random([10,1])*100\n",
    "\n",
    "mat=np.hstack((x,y,z)) #las apilo como columnas\n",
    "mat\n",
    "\n",
    "def f(x,y,z): #genero función\n",
    "    return 2*x+3*y+z**2\n",
    "\n",
    "f(x,y,z) #aplico la función a los vectores columna"
   ]
  },
  {
   "cell_type": "markdown",
   "metadata": {},
   "source": [
    "## Ejercicio 4\n",
    "\n",
    "Suponga que dentro de un cuadrado de lado 50 cm, hay un cuadrado de 20cm. Ambos cuadrados comparten centro. Estime el área del cuadrado interno por método Monte Carlo. [Consulte Aquí]( http://mathonweb.com/entrtain/monte/t_monte.htm)"
   ]
  },
  {
   "cell_type": "code",
   "execution_count": null,
   "metadata": {},
   "outputs": [],
   "source": [
    "c1=np.random.choice(2,(50,50)) #Genero matriz de 0 y 1 con que represento cuadrado grandec1\n",
    "c1"
   ]
  },
  {
   "cell_type": "code",
   "execution_count": null,
   "metadata": {},
   "outputs": [],
   "source": [
    "c2=c1[14:34,14:34] #Recorto el cuadrado para tener el pequeño, pues comparten centro así queda el slicing\n",
    "c2"
   ]
  },
  {
   "cell_type": "code",
   "execution_count": null,
   "metadata": {},
   "outputs": [],
   "source": [
    "mat_n=c1>0 #hago una matriz, en donde veo cuales son mayores que 0 para el cuadro grande\n",
    "mat_n"
   ]
  },
  {
   "cell_type": "code",
   "execution_count": null,
   "metadata": {},
   "outputs": [],
   "source": [
    "z=mat_n #crea una matriz, que tenga solo unos de la matriz grande\n",
    "z\n"
   ]
  },
  {
   "cell_type": "code",
   "execution_count": null,
   "metadata": {},
   "outputs": [],
   "source": [
    "sum(sum(z)) #sumo los 1 del cuadro grande"
   ]
  },
  {
   "cell_type": "code",
   "execution_count": null,
   "metadata": {},
   "outputs": [],
   "source": [
    "x=c2 #Matriz del cuadro pequeño que tiene unos \n",
    "sum(sum (x)) #sumo los 1 del cuadro pequeño"
   ]
  },
  {
   "cell_type": "code",
   "execution_count": null,
   "metadata": {},
   "outputs": [],
   "source": [
    "area=2500*(sum(sum(x))/sum(sum(z))) #Obtengo la aproximación del área\n",
    "area"
   ]
  },
  {
   "cell_type": "markdown",
   "metadata": {},
   "source": [
    "## Tareas"
   ]
  },
  {
   "cell_type": "markdown",
   "metadata": {},
   "source": [
    "1. De las siguientes secciones, escoger 73 funciones de NumPy y mostrar su utilización en un ejemplo.\n",
    "\n",
    "    - [Array creation routines](https://numpy.org/devdocs/reference/routines.array-creation.html)\n",
    "\n",
    "    - [Array manipulation routines](https://numpy.org/devdocs/reference/routines.array-manipulation.html)\n",
    "\n",
    "    - [Binary operations](https://numpy.org/devdocs/reference/routines.bitwise.html)\n",
    "\n",
    "    - [String operations](https://numpy.org/devdocs/reference/routines.char.html)\n",
    "    "
   ]
  },
  {
   "cell_type": "markdown",
   "metadata": {},
   "source": [
    "## Array Creation Routines"
   ]
  },
  {
   "cell_type": "code",
   "execution_count": null,
   "metadata": {},
   "outputs": [],
   "source": [
    "#Numpy.Empty\n",
    "np.empty((2,3),dtype=float) #1.arg, es si será mat o tupla, #2type, si es entero o float, order "
   ]
  },
  {
   "cell_type": "code",
   "execution_count": null,
   "metadata": {},
   "outputs": [],
   "source": [
    "#numpy.array\n",
    "np.array([1,2,3],) #1.arg, devuelve la lista como array"
   ]
  },
  {
   "cell_type": "code",
   "execution_count": null,
   "metadata": {},
   "outputs": [],
   "source": [
    "#np.arange\n",
    "np.arange(4,7,0.2) #Numero de inicio, #numero final, #como va avanzando"
   ]
  },
  {
   "cell_type": "code",
   "execution_count": null,
   "metadata": {},
   "outputs": [],
   "source": [
    "#np.identity  #Devuelve una matriz identidad con el número que se le dió\n",
    "np.identity(3)"
   ]
  },
  {
   "cell_type": "code",
   "execution_count": null,
   "metadata": {},
   "outputs": [],
   "source": [
    "#np.ones #Devuelve una matriz de unos o un vector\n",
    "np.ones(5)"
   ]
  },
  {
   "cell_type": "code",
   "execution_count": null,
   "metadata": {},
   "outputs": [],
   "source": [
    "#np.full \n",
    "np.full((5,5),3) #La tupla es el tamaño, el otro valor como lo va a rellenar"
   ]
  },
  {
   "cell_type": "code",
   "execution_count": null,
   "metadata": {},
   "outputs": [],
   "source": [
    "#np.copy\n",
    "x=np.array([1,2,3])\n",
    "z=np.copy(x) #Creo una copia de x para poder modificarla sin modificar la otra lista\n",
    "z[0]=2\n",
    "print(x)\n",
    "print(z)"
   ]
  },
  {
   "cell_type": "code",
   "execution_count": null,
   "metadata": {},
   "outputs": [],
   "source": [
    "#np.linspace\n",
    "np.linspace(3,7,4) #Primer valor, inicio, segundo valor final, ultimo valor, en cuantas partes lo voy a dividir."
   ]
  },
  {
   "cell_type": "code",
   "execution_count": null,
   "metadata": {},
   "outputs": [],
   "source": [
    "#np.logspace\n",
    "np.logspace(2,3,4) #devuelve numeros separados de forma igual en escala logarítmica."
   ]
  },
  {
   "cell_type": "code",
   "execution_count": null,
   "metadata": {},
   "outputs": [],
   "source": [
    "#np.vander\n",
    "z=np.vander(x,5) #necesito un vector, este vector genera una matriz en donde las columnas son potencias del vector\n",
    "               #en la primera es a la N, la segunda a la N-i hasta llegar a 0\n",
    "z    \n",
    "    "
   ]
  },
  {
   "cell_type": "code",
   "execution_count": null,
   "metadata": {},
   "outputs": [],
   "source": [
    "#np.vander\n",
    "np.diag(z,k=1) #necesita una matriz, devuelve la diagonal, el k, se va moviendo por las columnas iniciales"
   ]
  },
  {
   "cell_type": "code",
   "execution_count": null,
   "metadata": {},
   "outputs": [],
   "source": [
    "#np.tri\n",
    "np.tri(3,4,1) #Devuelve una matriz triangulada, primer numero filas, segundo numero columnas, tercer numero, en donde\n",
    "            #comienza el 0, si no se pone inicia por default en la ultima fila"
   ]
  },
  {
   "cell_type": "code",
   "execution_count": null,
   "metadata": {},
   "outputs": [],
   "source": [
    "#np.mat\n",
    "h=np.array([[1,3,5,5],[1,3,5,4]])\n",
    "l=np.asmatrix(h)\n",
    "l\n",
    "#convierte un array a un dato como matriz"
   ]
  },
  {
   "cell_type": "code",
   "execution_count": null,
   "metadata": {},
   "outputs": [],
   "source": [
    "#np.full_like\n",
    "np.full_like(x,3)  #Devuelve una matriz, con las mismas características que el vector llamado, lo devuelve con el numero \n",
    "                    #Que se indica"
   ]
  },
  {
   "cell_type": "code",
   "execution_count": null,
   "metadata": {},
   "outputs": [],
   "source": [
    "#np.eye    #Tiene la misma funcionalidad de identity\n",
    "np.eye(10)"
   ]
  },
  {
   "cell_type": "code",
   "execution_count": null,
   "metadata": {},
   "outputs": [],
   "source": [
    "#np.triu   #Crean una matriz triangular inferior,k nos dice la columna en la que iniciran los 0 por debajo de ella \n",
    "np.triu(x,k=2)"
   ]
  },
  {
   "cell_type": "code",
   "execution_count": null,
   "metadata": {},
   "outputs": [],
   "source": [
    "j=np.diagflat(z) #hace que todos los elementos de una matriz estén en una \n",
    "j"
   ]
  },
  {
   "cell_type": "code",
   "execution_count": null,
   "metadata": {},
   "outputs": [],
   "source": [
    "np.ascontiguousarray(j) #crea un array que es contiguo"
   ]
  },
  {
   "cell_type": "markdown",
   "metadata": {},
   "source": [
    "## Array manipulation routines"
   ]
  },
  {
   "cell_type": "code",
   "execution_count": null,
   "metadata": {},
   "outputs": [],
   "source": [
    "np.shape(x) #devuelve la forma de un array, en este caso, nos está diciendo que no es realmente un array"
   ]
  },
  {
   "cell_type": "code",
   "execution_count": null,
   "metadata": {},
   "outputs": [],
   "source": [
    "np.reshape(x,(3,1)) #da forma de matriz, en este caso de vector"
   ]
  },
  {
   "cell_type": "code",
   "execution_count": null,
   "metadata": {},
   "outputs": [],
   "source": [
    "(np.ravel(x)) #devuelve una lista de los valores de una matriz"
   ]
  },
  {
   "cell_type": "code",
   "execution_count": null,
   "metadata": {},
   "outputs": [],
   "source": [
    "#np.moveaxis\n",
    "x=np.moveaxis(j,1,-2)\n",
    "x\n",
    "#mueve la matriz, en sus dimensiones, primer argumento matriz, , segundo columna que quiero cambiar, tercero es la columna a mover"
   ]
  },
  {
   "cell_type": "code",
   "execution_count": null,
   "metadata": {},
   "outputs": [],
   "source": [
    "#np.swapaxes\n",
    "o=np.arange(6).reshape(3,2)\n",
    "np.swapaxes(o,1,0)\n",
    "#practicamente transpone la matriz"
   ]
  },
  {
   "cell_type": "code",
   "execution_count": 3,
   "metadata": {},
   "outputs": [
    {
     "data": {
      "text/plain": [
       "array([[1, 4],\n",
       "       [2, 5],\n",
       "       [3, 6]])"
      ]
     },
     "execution_count": 3,
     "metadata": {},
     "output_type": "execute_result"
    }
   ],
   "source": [
    "#np.column stack\n",
    "a=np.array((1,2,3))\n",
    "n=np.array((4,5,6))\n",
    "np.column_stack((a,n))\n",
    "#Apila dos vectores, de forma que queden como vectores columna pegados"
   ]
  },
  {
   "cell_type": "code",
   "execution_count": 4,
   "metadata": {},
   "outputs": [
    {
     "data": {
      "text/plain": [
       "array([1, 2, 3, 4, 5, 6])"
      ]
     },
     "execution_count": 4,
     "metadata": {},
     "output_type": "execute_result"
    }
   ],
   "source": [
    "#np.concatenate\n",
    "np.concatenate((a,n))\n",
    "#concatena dos vectores, para que estos esten en un solo vector, realmente devuelve una lista, para cambiarlo, se hace reshape"
   ]
  },
  {
   "cell_type": "code",
   "execution_count": 5,
   "metadata": {},
   "outputs": [
    {
     "data": {
      "text/plain": [
       "24"
      ]
     },
     "execution_count": 5,
     "metadata": {},
     "output_type": "execute_result"
    }
   ],
   "source": [
    "#np.asscalar(a)\n",
    "np.asscalar(np.array([24]))\n",
    "#Devuelve el valor escalar de un vector de 1x1"
   ]
  },
  {
   "cell_type": "code",
   "execution_count": 6,
   "metadata": {},
   "outputs": [
    {
     "data": {
      "text/plain": [
       "array([[5., 6., 7.],\n",
       "       [6., 7., 8.],\n",
       "       [7., 8., 9.]])"
      ]
     },
     "execution_count": 6,
     "metadata": {},
     "output_type": "execute_result"
    }
   ],
   "source": [
    "#np.broadcast\n",
    "x=np.array([[1],[2],[3]])\n",
    "y=np.array([4,5,6])\n",
    "b=np.broadcast(x,y)\n",
    "i=np.empty(b.shape)\n",
    "i.flat=[u+v for (u,v) in b]\n",
    "i\n",
    "#Sumas dos vectores, de tal forma que puede crear matrices, que son apiladas en forma de suma, para cada elemento de la mat"
   ]
  },
  {
   "cell_type": "code",
   "execution_count": 7,
   "metadata": {},
   "outputs": [
    {
     "data": {
      "text/plain": [
       "array([[ 1,  3,  4],\n",
       "       [ 5,  7,  8],\n",
       "       [ 9, 11, 12]])"
      ]
     },
     "execution_count": 7,
     "metadata": {},
     "output_type": "execute_result"
    }
   ],
   "source": [
    "#np.delete\n",
    "arr=np.array([[1,2,3,4],[5,6,7,8],[9,10,11,12]])\n",
    "arr\n",
    "np.delete(arr,1,1) \n",
    "#Elimina filas o columnas de una matriz, que están especificadas en los paréntesis"
   ]
  },
  {
   "cell_type": "code",
   "execution_count": 8,
   "metadata": {},
   "outputs": [
    {
     "data": {
      "text/plain": [
       "[array([[0, 1, 2, 3, 4, 5, 6, 7]]), array([[ 8,  9, 10, 11, 12, 13, 14, 15]])]"
      ]
     },
     "execution_count": 8,
     "metadata": {},
     "output_type": "execute_result"
    }
   ],
   "source": [
    "#np.vsplit\n",
    "x=np.arange(16).reshape(2,8)\n",
    "x\n",
    "np.vsplit(x,2)\n",
    "#Separa las matrices con vectores"
   ]
  },
  {
   "cell_type": "code",
   "execution_count": 9,
   "metadata": {},
   "outputs": [
    {
     "data": {
      "text/plain": [
       "array([[0, 1, 2, 3, 0, 1, 2, 3, 0, 1, 2, 3],\n",
       "       [0, 1, 2, 3, 0, 1, 2, 3, 0, 1, 2, 3]])"
      ]
     },
     "execution_count": 9,
     "metadata": {},
     "output_type": "execute_result"
    }
   ],
   "source": [
    "#np.resize\n",
    "a=np.array([[0,1],[2,3]])\n",
    "np.resize(a,(2,12))\n",
    "#da un nuevo array con una forma específica"
   ]
  },
  {
   "cell_type": "code",
   "execution_count": 10,
   "metadata": {},
   "outputs": [
    {
     "data": {
      "text/plain": [
       "array([ 1,  2,  3,  4,  5,  6,  8,  9, 10])"
      ]
     },
     "execution_count": 10,
     "metadata": {},
     "output_type": "execute_result"
    }
   ],
   "source": [
    "#np.append\n",
    "np.append([1,2,3],[[4,5,6],[8,9,10]])\n",
    "#agrega los vectores como si fuera vectores filas"
   ]
  },
  {
   "cell_type": "code",
   "execution_count": 11,
   "metadata": {},
   "outputs": [
    {
     "data": {
      "text/plain": [
       "[array([[ 0,  1],\n",
       "        [ 4,  5],\n",
       "        [ 8,  9],\n",
       "        [12, 13]]), array([[ 2,  3],\n",
       "        [ 6,  7],\n",
       "        [10, 11],\n",
       "        [14, 15]])]"
      ]
     },
     "execution_count": 11,
     "metadata": {},
     "output_type": "execute_result"
    }
   ],
   "source": [
    "#np.hsplit\n",
    "x=np.arange(16).reshape(4,4)\n",
    "np.hsplit(x,2)\n",
    "#Parte el vector de forma que quedan dos del mismo tamaño"
   ]
  },
  {
   "cell_type": "code",
   "execution_count": 12,
   "metadata": {},
   "outputs": [
    {
     "data": {
      "text/plain": [
       "array([[[5, 4],\n",
       "        [7, 6]],\n",
       "\n",
       "       [[1, 0],\n",
       "        [3, 2]]])"
      ]
     },
     "execution_count": 12,
     "metadata": {},
     "output_type": "execute_result"
    }
   ],
   "source": [
    "#np.flip\n",
    "A=np.arange(8).reshape(2,2,2)\n",
    "A\n",
    "np.flip(A,(0,2))\n",
    "#Le da la vuelta a los elementos del vector através de la dimensión"
   ]
  },
  {
   "cell_type": "code",
   "execution_count": 13,
   "metadata": {},
   "outputs": [
    {
     "data": {
      "text/plain": [
       "array([[0., 0., 1.],\n",
       "       [0., 2., 0.],\n",
       "       [3., 0., 0.]])"
      ]
     },
     "execution_count": 13,
     "metadata": {},
     "output_type": "execute_result"
    }
   ],
   "source": [
    "#np.fliplr\n",
    "A=np.diag([1.,2.,3.])\n",
    "A\n",
    "np.fliplr(A)\n",
    "#voltea la diagonal de una matriz"
   ]
  },
  {
   "cell_type": "code",
   "execution_count": 14,
   "metadata": {},
   "outputs": [
    {
     "data": {
      "text/plain": [
       "array([[[1, 2]],\n",
       "\n",
       "       [[2, 3]],\n",
       "\n",
       "       [[3, 4]]])"
      ]
     },
     "execution_count": 14,
     "metadata": {},
     "output_type": "execute_result"
    }
   ],
   "source": [
    "#np.stack\n",
    "a = np.array([[1],[2],[3]])\n",
    "b = np.array([[2],[3],[4]])\n",
    "np.dstack((a,b))\n",
    "#Apila vectores através de una tercera dimensión"
   ]
  },
  {
   "cell_type": "code",
   "execution_count": 15,
   "metadata": {},
   "outputs": [
    {
     "data": {
      "text/plain": [
       "(3, 1)"
      ]
     },
     "execution_count": 15,
     "metadata": {},
     "output_type": "execute_result"
    }
   ],
   "source": [
    "#np.squeeze()\n",
    "x = np.array([[[0], [1], [2]]])\n",
    "x.shape\n",
    "\n",
    "np.squeeze(x).shape\n",
    "\n",
    "np.squeeze(x, axis=0).shape\n",
    "\n",
    "#Quita matrices de una dimension de en la forma de un vector"
   ]
  },
  {
   "cell_type": "markdown",
   "metadata": {},
   "source": [
    "## Operaciones string"
   ]
  },
  {
   "cell_type": "code",
   "execution_count": 16,
   "metadata": {},
   "outputs": [
    {
     "data": {
      "text/plain": [
       "array(['Holaadios'], dtype='<U9')"
      ]
     },
     "execution_count": 16,
     "metadata": {},
     "output_type": "execute_result"
    }
   ],
   "source": [
    "x1=np.array([\"Hola\"])\n",
    "x2=np.array([\"adios\"])\n",
    "np.char.add(x1,x2) #fusiona 2 vectores"
   ]
  },
  {
   "cell_type": "code",
   "execution_count": 17,
   "metadata": {},
   "outputs": [
    {
     "data": {
      "text/plain": [
       "array(['Yo juego', 'Yo juegoYo juego', 'Yo juegoYo juegoYo juego'],\n",
       "      dtype='<U24')"
      ]
     },
     "execution_count": 17,
     "metadata": {},
     "output_type": "execute_result"
    }
   ],
   "source": [
    "a=np.array([\"Yo juego\"])\n",
    "i=np.array([1,2,3])\n",
    "np.char.multiply(a,i) #Multiplica el vector, por lo que hay dentro de el \n",
    "                      #otro vector"
   ]
  },
  {
   "cell_type": "code",
   "execution_count": 18,
   "metadata": {},
   "outputs": [
    {
     "data": {
      "text/plain": [
       "array(['Yo juego', 'Yo juego', 'Yo juego'], dtype='<U8')"
      ]
     },
     "execution_count": 18,
     "metadata": {},
     "output_type": "execute_result"
    }
   ],
   "source": [
    "np.char.mod(a,i)\n",
    "#Genera un vector que se itera"
   ]
  },
  {
   "cell_type": "code",
   "execution_count": 19,
   "metadata": {},
   "outputs": [
    {
     "data": {
      "text/plain": [
       "array(['Ao juego'], dtype='<U8')"
      ]
     },
     "execution_count": 19,
     "metadata": {},
     "output_type": "execute_result"
    }
   ],
   "source": [
    "a=np.array([\"ao juego\"])\n",
    "np.char.capitalize(a) #devuelve la primera letra del vector como mayus"
   ]
  },
  {
   "cell_type": "code",
   "execution_count": 20,
   "metadata": {},
   "outputs": [
    {
     "data": {
      "text/plain": [
       "array(['a'], dtype='<U1')"
      ]
     },
     "execution_count": 20,
     "metadata": {},
     "output_type": "execute_result"
    }
   ],
   "source": [
    "np.char.center(a,1) #Devuelve un vector que tiene solo la primera letra  o lo que se le especifique."
   ]
  },
  {
   "cell_type": "code",
   "execution_count": 21,
   "metadata": {},
   "outputs": [
    {
     "data": {
      "text/plain": [
       "array(['ao juego'], dtype='<U8')"
      ]
     },
     "execution_count": 21,
     "metadata": {},
     "output_type": "execute_result"
    }
   ],
   "source": [
    "a=np.array([\"ao juego\"])\n",
    "np.char.expandtabs(a, tabsize=0) #da como resultado un vector en el que todas las letras estan separadas con el numero especificado"
   ]
  },
  {
   "cell_type": "code",
   "execution_count": 22,
   "metadata": {},
   "outputs": [
    {
     "data": {
      "text/plain": [
       "array(['aadiosoadios adiosjadiosuadioseadiosgadioso'], dtype='<U43')"
      ]
     },
     "execution_count": 22,
     "metadata": {},
     "output_type": "execute_result"
    }
   ],
   "source": [
    "x2=np.array([\"adios\"])\n",
    "a=np.array([\"ao juego\"])\n",
    "np.char.join(x2,a)\n",
    "#Da como resultado un string que es la concatenacion de los string de los vectores"
   ]
  },
  {
   "cell_type": "code",
   "execution_count": 23,
   "metadata": {},
   "outputs": [
    {
     "data": {
      "text/plain": [
       "array(['ao juego       '], dtype='<U15')"
      ]
     },
     "execution_count": 23,
     "metadata": {},
     "output_type": "execute_result"
    }
   ],
   "source": [
    "a=np.array([\"ao juego\"])\n",
    "np.char.ljust(a,15)\n",
    "#da como resultado al final de los espacios."
   ]
  },
  {
   "cell_type": "code",
   "execution_count": 24,
   "metadata": {},
   "outputs": [
    {
     "data": {
      "text/plain": [
       "array(['esto es el pes'], dtype='<U14')"
      ]
     },
     "execution_count": 24,
     "metadata": {},
     "output_type": "execute_result"
    }
   ],
   "source": [
    "a=np.array([\"ESTO ES EL PES\"])\n",
    "np.char.lower(a)\n",
    "#Devuelve el string como minúsculas"
   ]
  },
  {
   "cell_type": "code",
   "execution_count": 25,
   "metadata": {},
   "outputs": [
    {
     "data": {
      "text/plain": [
       "array([['ESTO ES EL PES', '', '']], dtype='<U14')"
      ]
     },
     "execution_count": 25,
     "metadata": {},
     "output_type": "execute_result"
    }
   ],
   "source": [
    "np.char.partition(a,x2) #para cada elemento del vector a, parte el elemento como la primera ocurrencia y devuelve 3 string que contienen la parte antes del separador|b"
   ]
  },
  {
   "cell_type": "code",
   "execution_count": 26,
   "metadata": {},
   "outputs": [
    {
     "data": {
      "text/plain": [
       "array(['ESTO ES EL PES'], dtype='<U14')"
      ]
     },
     "execution_count": 26,
     "metadata": {},
     "output_type": "execute_result"
    }
   ],
   "source": [
    "np.char.replace(a,x1,x2) #Para cada elemento de a, devuelve una copia de las recurrencias en el segundo parámetro, puestas en el tercero."
   ]
  },
  {
   "cell_type": "code",
   "execution_count": 27,
   "metadata": {},
   "outputs": [
    {
     "data": {
      "text/plain": [
       "array(['E'], dtype='<U1')"
      ]
     },
     "execution_count": 27,
     "metadata": {},
     "output_type": "execute_result"
    }
   ],
   "source": [
    "np.char.rjust(a,1) #Devuelve la posicion desde 1 de las letras del vector."
   ]
  },
  {
   "cell_type": "code",
   "execution_count": 28,
   "metadata": {},
   "outputs": [
    {
     "data": {
      "text/plain": [
       "array([['', '', 'ESTO ES EL PES']], dtype='<U14')"
      ]
     },
     "execution_count": 28,
     "metadata": {},
     "output_type": "execute_result"
    }
   ],
   "source": [
    "np.char.rpartition(a,x2) #Devuelve para cada elemento de a las ultimas ocurrencias separadas y contenidas por la parte antes del separador."
   ]
  },
  {
   "cell_type": "code",
   "execution_count": 29,
   "metadata": {},
   "outputs": [
    {
     "data": {
      "text/plain": [
       "array([list(['', ''])], dtype=object)"
      ]
     },
     "execution_count": 29,
     "metadata": {},
     "output_type": "execute_result"
    }
   ],
   "source": [
    "np.char.rsplit(a,a)\n",
    "#regresa a "
   ]
  },
  {
   "cell_type": "code",
   "execution_count": 30,
   "metadata": {},
   "outputs": [
    {
     "data": {
      "text/plain": [
       "array([list(['Hola'])], dtype=object)"
      ]
     },
     "execution_count": 30,
     "metadata": {},
     "output_type": "execute_result"
    }
   ],
   "source": [
    "np.char.split(x1,a)\n",
    "#Para cada elemento en a devuelve una lista de palabras usando el segundo argumento como el string delimitate"
   ]
  },
  {
   "cell_type": "code",
   "execution_count": 31,
   "metadata": {},
   "outputs": [
    {
     "data": {
      "text/plain": [
       "array([list(['ESTO ES EL PES'])], dtype=object)"
      ]
     },
     "execution_count": 31,
     "metadata": {},
     "output_type": "execute_result"
    }
   ],
   "source": [
    "np.char.splitlines(a)\n",
    "#Da una lista de las lineas que hay en el vector, en este caso solo 1"
   ]
  },
  {
   "cell_type": "code",
   "execution_count": 32,
   "metadata": {},
   "outputs": [
    {
     "data": {
      "text/plain": [
       "array(['ESTOJESJELJPES'], dtype='<U14')"
      ]
     },
     "execution_count": 32,
     "metadata": {},
     "output_type": "execute_result"
    }
   ],
   "source": [
    "np.char.translate(a,\"AAAAAAAADSSAFSJSUSJSKSJUFNJSKAFNJSKANFSAÑNFASLÑFNSAKFNSAFÑKNASFLÑAF\")\n",
    "#Cambia los espacios por lugares en la table"
   ]
  },
  {
   "cell_type": "code",
   "execution_count": 33,
   "metadata": {},
   "outputs": [
    {
     "data": {
      "text/plain": [
       "array(['000000000000000000000000000000000000000000000000000000000000000000ESTO ES EL PES'],\n",
       "      dtype='<U80')"
      ]
     },
     "execution_count": 33,
     "metadata": {},
     "output_type": "execute_result"
    }
   ],
   "source": [
    "np.char.zfill(a,80)\n",
    "#llena el vector con los espacios del vector que se invoca"
   ]
  },
  {
   "cell_type": "code",
   "execution_count": 34,
   "metadata": {},
   "outputs": [
    {
     "data": {
      "text/plain": [
       "array([False])"
      ]
     },
     "execution_count": 34,
     "metadata": {},
     "output_type": "execute_result"
    }
   ],
   "source": [
    "np.char.equal(a,x1)\n",
    "#Devuelve si los vectores son iguales."
   ]
  },
  {
   "cell_type": "code",
   "execution_count": 35,
   "metadata": {},
   "outputs": [
    {
     "data": {
      "text/plain": [
       "array([ True])"
      ]
     },
     "execution_count": 35,
     "metadata": {},
     "output_type": "execute_result"
    }
   ],
   "source": [
    "np.char.not_equal(a,x1)\n",
    "#Devuelve si no son iguales lo vectores"
   ]
  },
  {
   "cell_type": "code",
   "execution_count": 36,
   "metadata": {},
   "outputs": [
    {
     "data": {
      "text/plain": [
       "array([False])"
      ]
     },
     "execution_count": 36,
     "metadata": {},
     "output_type": "execute_result"
    }
   ],
   "source": [
    "np.char.greater_equal(a,x1)\n",
    "#revisa si los arrays tienen la misma longitud"
   ]
  },
  {
   "cell_type": "code",
   "execution_count": 37,
   "metadata": {},
   "outputs": [
    {
     "data": {
      "text/plain": [
       "array([ True])"
      ]
     },
     "execution_count": 37,
     "metadata": {},
     "output_type": "execute_result"
    }
   ],
   "source": [
    "np.char.less_equal(a,a)\n",
    "#Devuelve si son iguales o menores, dice true, porque son lo mismo."
   ]
  },
  {
   "cell_type": "code",
   "execution_count": 38,
   "metadata": {},
   "outputs": [
    {
     "data": {
      "text/plain": [
       "array([False])"
      ]
     },
     "execution_count": 38,
     "metadata": {},
     "output_type": "execute_result"
    }
   ],
   "source": [
    "np.char.greater(a,x1)\n",
    "#Me dice si una es mayor que la otra."
   ]
  },
  {
   "cell_type": "code",
   "execution_count": 39,
   "metadata": {},
   "outputs": [
    {
     "data": {
      "text/plain": [
       "array([False])"
      ]
     },
     "execution_count": 39,
     "metadata": {},
     "output_type": "execute_result"
    }
   ],
   "source": [
    "np.char.less(x2,x1)\n",
    "#compara si el primer argumento es menor que el segundo."
   ]
  },
  {
   "cell_type": "code",
   "execution_count": 40,
   "metadata": {},
   "outputs": [
    {
     "data": {
      "text/plain": [
       "array([False])"
      ]
     },
     "execution_count": 40,
     "metadata": {},
     "output_type": "execute_result"
    }
   ],
   "source": [
    "np.char.endswith(a,\"a\")\n",
    "#Devuelve si el vector termina con esa letra."
   ]
  },
  {
   "cell_type": "code",
   "execution_count": 41,
   "metadata": {},
   "outputs": [
    {
     "data": {
      "text/plain": [
       "array([-1])"
      ]
     },
     "execution_count": 41,
     "metadata": {},
     "output_type": "execute_result"
    }
   ],
   "source": [
    "np.char.find(a,\"B\") #Devuelve cual es el índice más bajo del vector."
   ]
  },
  {
   "cell_type": "code",
   "execution_count": 42,
   "metadata": {},
   "outputs": [
    {
     "data": {
      "text/plain": [
       "array([ True])"
      ]
     },
     "execution_count": 42,
     "metadata": {},
     "output_type": "execute_result"
    }
   ],
   "source": [
    "np.char.isalpha(x1)\n",
    "#Devuelve verdadero si todas las letras del vector son del alfabeto."
   ]
  },
  {
   "cell_type": "code",
   "execution_count": 43,
   "metadata": {},
   "outputs": [
    {
     "data": {
      "text/plain": [
       "array([False])"
      ]
     },
     "execution_count": 43,
     "metadata": {},
     "output_type": "execute_result"
    }
   ],
   "source": [
    "np.char.isalnum(a) #Devuelve verdadero si tiene caracteres alfanuméricos"
   ]
  },
  {
   "cell_type": "code",
   "execution_count": 44,
   "metadata": {},
   "outputs": [
    {
     "data": {
      "text/plain": [
       "array([False])"
      ]
     },
     "execution_count": 44,
     "metadata": {},
     "output_type": "execute_result"
    }
   ],
   "source": [
    "np.char.isdecimal(a)\n",
    "#Devuelve verdadero, si solo tengo valores decimales en todos los caracteres del elemento."
   ]
  },
  {
   "cell_type": "code",
   "execution_count": 45,
   "metadata": {},
   "outputs": [
    {
     "data": {
      "text/plain": [
       "array([False])"
      ]
     },
     "execution_count": 45,
     "metadata": {},
     "output_type": "execute_result"
    }
   ],
   "source": [
    "np.char.isdigit(x1)\n",
    "#Devuelve verdadero si todos los elementos en el caracter son dígitos."
   ]
  },
  {
   "cell_type": "code",
   "execution_count": 46,
   "metadata": {},
   "outputs": [
    {
     "data": {
      "text/plain": [
       "array([False])"
      ]
     },
     "execution_count": 46,
     "metadata": {},
     "output_type": "execute_result"
    }
   ],
   "source": [
    "np.char.islower(a)\n",
    "#Devuelve verdadero si todos los elementos del vector están en minúsculas."
   ]
  },
  {
   "cell_type": "code",
   "execution_count": 47,
   "metadata": {},
   "outputs": [
    {
     "data": {
      "text/plain": [
       "array([False])"
      ]
     },
     "execution_count": 47,
     "metadata": {},
     "output_type": "execute_result"
    }
   ],
   "source": [
    "np.char.isnumeric(a)\n",
    "#Devuelve si es verdadero si todos los verdaderos son numéricos."
   ]
  },
  {
   "cell_type": "code",
   "execution_count": 48,
   "metadata": {},
   "outputs": [
    {
     "data": {
      "text/plain": [
       "array([ True])"
      ]
     },
     "execution_count": 48,
     "metadata": {},
     "output_type": "execute_result"
    }
   ],
   "source": [
    "a=np.array([\"  \"])\n",
    "np.char.isspace(a)\n",
    "#Devuelve verdadero si todos los caracteres son espaciones"
   ]
  },
  {
   "cell_type": "code",
   "execution_count": 49,
   "metadata": {},
   "outputs": [
    {
     "data": {
      "text/plain": [
       "array([-1])"
      ]
     },
     "execution_count": 49,
     "metadata": {},
     "output_type": "execute_result"
    }
   ],
   "source": [
    "np.char.rfind(a,\"mnaskñfnsalñ\",2)\n",
    "#Para todos los elementos de a, devuelve el valor más alto del string"
   ]
  },
  {
   "cell_type": "code",
   "execution_count": 50,
   "metadata": {},
   "outputs": [
    {
     "data": {
      "text/plain": [
       "chararray(['Com', 'Com', 'Com', 'Com', 'Com', 'Com'], dtype='<U3')"
      ]
     },
     "execution_count": 50,
     "metadata": {},
     "output_type": "execute_result"
    }
   ],
   "source": [
    "np.char.array(\"Como funciona esto\",3)\n",
    "#Repite los caracteres, dependiendo del número que se le dé"
   ]
  },
  {
   "cell_type": "markdown",
   "metadata": {},
   "source": [
    "## Binary Operations"
   ]
  },
  {
   "cell_type": "code",
   "execution_count": 51,
   "metadata": {},
   "outputs": [
    {
     "data": {
      "text/plain": [
       "array([[[160],\n",
       "        [ 64]],\n",
       "\n",
       "       [[192],\n",
       "        [ 32]]], dtype=uint8)"
      ]
     },
     "execution_count": 51,
     "metadata": {},
     "output_type": "execute_result"
    }
   ],
   "source": [
    "a = np.array([[[1,0,1],[0,1,0]],[[1,1,0],[0,0,1]]])\n",
    "b = np.packbits(a, axis=-1)\n",
    "b\n",
    "#Empaca el elemento de un arreglo valuado como binario, en arreglos "
   ]
  },
  {
   "cell_type": "markdown",
   "metadata": {},
   "source": [
    " 2. Crear un ejemplo de cómo guardar y cargar arreglos de un archivo binario `.npy` y `.npz`:\n",
    "\n",
    "    - [NumPy binary files (NPY, NPZ)](https://numpy.org/devdocs/reference/routines.io.html#numpy-binary-files-npy-npz)"
   ]
  },
  {
   "cell_type": "code",
   "execution_count": 52,
   "metadata": {},
   "outputs": [],
   "source": [
    "vec1=np.random.random((4,4))\n",
    "vec2=np.arange(1,9,0.2)\n",
    "\n",
    "np.savez(\"arreglos.bin\",objetoA=vec1, objetoB=vec2)"
   ]
  },
  {
   "cell_type": "code",
   "execution_count": 53,
   "metadata": {},
   "outputs": [],
   "source": [
    "d=np.load(\"arreglos.bin.npz\")"
   ]
  },
  {
   "cell_type": "code",
   "execution_count": 54,
   "metadata": {},
   "outputs": [
    {
     "data": {
      "text/plain": [
       "array([[0.97232716, 0.40982154, 0.58579131, 0.98867009],\n",
       "       [0.64892111, 0.58030919, 0.62443861, 0.43299241],\n",
       "       [0.95727721, 0.88229143, 0.89077498, 0.78820011],\n",
       "       [0.64076401, 0.96911743, 0.92041958, 0.22367302]])"
      ]
     },
     "execution_count": 54,
     "metadata": {},
     "output_type": "execute_result"
    }
   ],
   "source": [
    "d[\"objetoA\"]"
   ]
  },
  {
   "cell_type": "code",
   "execution_count": 55,
   "metadata": {},
   "outputs": [
    {
     "data": {
      "text/plain": [
       "array([1. , 1.2, 1.4, 1.6, 1.8, 2. , 2.2, 2.4, 2.6, 2.8, 3. , 3.2, 3.4,\n",
       "       3.6, 3.8, 4. , 4.2, 4.4, 4.6, 4.8, 5. , 5.2, 5.4, 5.6, 5.8, 6. ,\n",
       "       6.2, 6.4, 6.6, 6.8, 7. , 7.2, 7.4, 7.6, 7.8, 8. , 8.2, 8.4, 8.6,\n",
       "       8.8])"
      ]
     },
     "execution_count": 55,
     "metadata": {},
     "output_type": "execute_result"
    }
   ],
   "source": [
    "d[\"objetoB\"]"
   ]
  },
  {
   "cell_type": "code",
   "execution_count": 56,
   "metadata": {},
   "outputs": [],
   "source": [
    "h=np.random.random((5,5))\n",
    "np.save(\"array\",h)"
   ]
  },
  {
   "cell_type": "code",
   "execution_count": 57,
   "metadata": {},
   "outputs": [
    {
     "data": {
      "text/plain": [
       "array([[0.35134737, 0.5351947 , 0.25633037, 0.43356636, 0.11846148],\n",
       "       [0.09625478, 0.31977791, 0.3754598 , 0.0637303 , 0.22050856],\n",
       "       [0.93859436, 0.77121596, 0.74978018, 0.701884  , 0.81544705],\n",
       "       [0.42389754, 0.26561268, 0.87399422, 0.22337992, 0.21849014],\n",
       "       [0.27588379, 0.61739126, 0.76997477, 0.95267717, 0.86625256]])"
      ]
     },
     "execution_count": 57,
     "metadata": {},
     "output_type": "execute_result"
    }
   ],
   "source": [
    "H=np.load(\"array.npy\")\n",
    "h"
   ]
  },
  {
   "cell_type": "markdown",
   "metadata": {},
   "source": [
    "3. Crear un ejemplo de cómo guardar y cargar arreglos de un archivo de texto `.txt`:\n",
    "\n",
    "    - [NumPy Text files](https://numpy.org/devdocs/reference/routines.io.html#text-files)    \n",
    "    "
   ]
  },
  {
   "cell_type": "code",
   "execution_count": 60,
   "metadata": {},
   "outputs": [],
   "source": [
    "vec1=np.random.random((10,10))\n",
    "vec2=np.arange(2,7,0.1)\n",
    "np.savetxt(\"proeba\", vec1, delimiter=\",\")"
   ]
  },
  {
   "cell_type": "code",
   "execution_count": 61,
   "metadata": {},
   "outputs": [
    {
     "data": {
      "text/plain": [
       "array([[0.88650983, 0.01501301, 0.02532087, 0.71764424, 0.85157867,\n",
       "        0.81026359, 0.6750676 , 0.29371574, 0.446964  , 0.26907898],\n",
       "       [0.34829602, 0.56984119, 0.60222414, 0.0391587 , 0.49911371,\n",
       "        0.72110807, 0.85207413, 0.73134234, 0.68866604, 0.2914111 ],\n",
       "       [0.03409827, 0.52167333, 0.43421267, 0.2549773 , 0.50634594,\n",
       "        0.36865907, 0.92951145, 0.79901683, 0.54607473, 0.55924299],\n",
       "       [0.30362277, 0.13506055, 0.62974813, 0.60331662, 0.32770369,\n",
       "        0.56811887, 0.11951382, 0.35515674, 0.39527139, 0.16726866],\n",
       "       [0.93272094, 0.06950162, 0.27519107, 0.26262546, 0.82025422,\n",
       "        0.99649456, 0.3741266 , 0.88677885, 0.60650377, 0.89846432],\n",
       "       [0.80703165, 0.4405298 , 0.6113881 , 0.26238657, 0.33758367,\n",
       "        0.2599917 , 0.60324681, 0.55559163, 0.63073246, 0.97060904],\n",
       "       [0.34111568, 0.16869096, 0.21071013, 0.47411961, 0.63846373,\n",
       "        0.04145388, 0.25161539, 0.48067036, 0.82459676, 0.40421162],\n",
       "       [0.68613931, 0.68080408, 0.36697349, 0.97247006, 0.38207176,\n",
       "        0.76127329, 0.69220786, 0.05281179, 0.97059562, 0.8076183 ],\n",
       "       [0.08704887, 0.74935697, 0.23319733, 0.51717182, 0.07661777,\n",
       "        0.49918994, 0.6475559 , 0.74492728, 0.33551276, 0.32671489],\n",
       "       [0.51822152, 0.3395389 , 0.11283707, 0.1452439 , 0.27613244,\n",
       "        0.36455813, 0.27678777, 0.36911323, 0.29520887, 0.49961004]])"
      ]
     },
     "execution_count": 61,
     "metadata": {},
     "output_type": "execute_result"
    }
   ],
   "source": [
    "np.loadtxt(\"proeba\",delimiter=\",\")"
   ]
  },
  {
   "cell_type": "markdown",
   "metadata": {},
   "source": [
    "4. Crear una función llamada `estimacionMCO` que lea un archivo CSV con 7 columnas, que corresponden a las variables $(x_{1i}, \\ldots, x_{6i})$ y $y_i$. \n",
    "    - La función debe computar matricialmente los parámetros del modelo de regresión lineal: $y = X\\beta$. \n",
    "    - Estos parámetros deben ser devueltos como un arreglo de NumPy. \n",
    "\n",
    "    - Utilice la función de lectura de archivos de NumPy."
   ]
  },
  {
   "cell_type": "code",
   "execution_count": 62,
   "metadata": {},
   "outputs": [],
   "source": [
    "import csv\n",
    "\n",
    "\n",
    "def estimacionMCO():\n",
    "    f=str(input(\"Ingrese el nombre del archivo: \" ))+\".csv\"\n",
    "    mat=np.genfromtxt(f,delimiter=\",\")\n",
    "    X=mat[1: , :6]\n",
    "    Y=mat[1:, 6: ]\n",
    "    \n",
    "    \n",
    "    B1=(X.T)@X\n",
    "    B11=np.linalg.inv(B1)\n",
    "    B2=(X.T)@Y\n",
    "    BETAS=B11@B2\n",
    "    \n",
    "    return(BETAS)\n",
    "        "
   ]
  },
  {
   "cell_type": "code",
   "execution_count": 63,
   "metadata": {},
   "outputs": [
    {
     "name": "stdout",
     "output_type": "stream",
     "text": [
      "Ingrese el nombre del archivo: Libro1\n"
     ]
    },
    {
     "data": {
      "text/plain": [
       "array([[0.04035055],\n",
       "       [0.01655168],\n",
       "       [0.045871  ],\n",
       "       [0.02389826],\n",
       "       [0.10755604],\n",
       "       [0.21086565]])"
      ]
     },
     "execution_count": 63,
     "metadata": {},
     "output_type": "execute_result"
    }
   ],
   "source": [
    "estimacionMCO()"
   ]
  }
 ],
 "metadata": {
  "kernelspec": {
   "display_name": "Python 3",
   "language": "python",
   "name": "python3"
  },
  "language_info": {
   "codemirror_mode": {
    "name": "ipython",
    "version": 3
   },
   "file_extension": ".py",
   "mimetype": "text/x-python",
   "name": "python",
   "nbconvert_exporter": "python",
   "pygments_lexer": "ipython3",
   "version": "3.7.4"
  }
 },
 "nbformat": 4,
 "nbformat_minor": 2
}
