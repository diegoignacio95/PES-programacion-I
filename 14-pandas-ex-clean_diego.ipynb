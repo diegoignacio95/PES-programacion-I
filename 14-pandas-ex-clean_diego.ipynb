{
 "cells": [
  {
   "cell_type": "markdown",
   "metadata": {},
   "source": [
    "# Ejercicios de pandas"
   ]
  },
  {
   "cell_type": "markdown",
   "metadata": {},
   "source": [
    "***"
   ]
  },
  {
   "cell_type": "code",
   "execution_count": 1,
   "metadata": {},
   "outputs": [],
   "source": [
    "import pandas as pd\n",
    "import numpy as np"
   ]
  },
  {
   "cell_type": "markdown",
   "metadata": {},
   "source": [
    "## Ejercicio 1\n",
    "\n",
    "1. Generar arreglos de numpy para obtener el resultado de $ z = f(x,y) $ para un conjunto de entrada aleatorio de al menos 100 filas.\n",
    "\n",
    "- Crear un `DataFrame` de pandas con las columnas $x$, $y$ y $z$.\n",
    "- Obtener el promedio de cada `Series` en el `DataFrame`."
   ]
  },
  {
   "cell_type": "code",
   "execution_count": 2,
   "metadata": {},
   "outputs": [
    {
     "name": "stdout",
     "output_type": "stream",
     "text": [
      "Ingrese la TMS de el bien a: 0.2\n"
     ]
    },
    {
     "data": {
      "text/plain": [
       "array([[ 6.01864903,  0.67940727,  1.051003  ],\n",
       "       [22.85126328, 21.3062137 , 21.60663153],\n",
       "       [15.45533967,  3.74678798,  4.97442635],\n",
       "       [20.35203098, 22.18187519, 21.8031959 ],\n",
       "       [21.74219695,  9.90976188, 11.59608153],\n",
       "       [15.15343659, 12.47122491, 12.96670159],\n",
       "       [23.64707389,  1.03136327,  1.92967785],\n",
       "       [ 7.73983319, 12.47008213, 11.33552845],\n",
       "       [20.6508418 ,  5.07965031,  6.72441649],\n",
       "       [16.6583337 , 21.88746956, 20.72443768],\n",
       "       [15.62350864, 20.55221014, 19.45550642],\n",
       "       [12.03090403, 18.32359881, 16.8448936 ],\n",
       "       [16.29742748,  7.16317865,  8.44322645],\n",
       "       [ 3.19034399, 24.43790872, 16.26367673],\n",
       "       [15.04218899,  3.58149294,  4.77214342],\n",
       "       [20.93563471, 17.65537217, 18.26748367],\n",
       "       [ 2.34264101,  8.41409773,  6.51549161],\n",
       "       [23.92877616, 20.86736131, 21.44658391],\n",
       "       [18.17905234, 13.15604585, 14.03506895],\n",
       "       [24.24462727, 14.19090785, 15.79542247],\n",
       "       [19.97757585, 11.1434008 , 12.52341461],\n",
       "       [ 8.97630305,  4.51816069,  5.18309107],\n",
       "       [15.54897762, 15.65272418, 15.63191964],\n",
       "       [ 4.28726193,  5.77367697,  5.43998859],\n",
       "       [10.80309475, 24.06180367, 20.50086473],\n",
       "       [ 4.86083544,  2.79233535,  3.11972449],\n",
       "       [ 3.96492262, 11.60891892,  9.36440883],\n",
       "       [19.5618056 ,  0.78475493,  1.49303171],\n",
       "       [14.24750041, 21.02700951, 19.45224561],\n",
       "       [10.192537  ,  8.18550444,  8.55249478],\n",
       "       [15.90918788,  3.7729318 ,  5.03121372],\n",
       "       [12.04089855, 16.42458556, 15.43573505],\n",
       "       [14.17962342, 24.83955685, 22.20485872],\n",
       "       [24.66044715, 16.48166218, 17.86491672],\n",
       "       [ 0.62492657,  1.00171947,  0.91151263],\n",
       "       [ 7.94818195, 12.52732392, 11.43773963],\n",
       "       [18.76246771,  7.26904612,  8.78698593],\n",
       "       [ 8.09559162, 18.23038033, 15.49837988],\n",
       "       [17.73069197, 14.94818604, 15.4673507 ],\n",
       "       [ 8.69029414,  9.49551827,  9.32871519],\n",
       "       [12.35922797, 16.46656997, 15.54822382],\n",
       "       [ 8.92455965, 16.59896501, 14.66162701],\n",
       "       [22.93358366,  1.545437  ,  2.65054651],\n",
       "       [18.11034316,  5.41837684,  6.89732517],\n",
       "       [12.25420124,  1.06277572,  1.73304684],\n",
       "       [23.94430144, 24.7367817 , 24.57621465],\n",
       "       [13.23076727, 13.10677537, 13.13148044],\n",
       "       [18.17443554, 13.14366602, 14.02378996],\n",
       "       [ 5.14863288, 16.01371069, 12.7623887 ],\n",
       "       [ 2.58882002, 15.68189029, 10.93802977],\n",
       "       [17.18499956, 20.50423343, 19.792686  ],\n",
       "       [20.24298127, 19.31514555, 19.49724651],\n",
       "       [ 8.23026492,  8.59762113,  8.52286099],\n",
       "       [ 0.34017629,  9.50339191,  4.8825165 ],\n",
       "       [ 2.81160516, 10.07468626,  7.80505721],\n",
       "       [18.938285  ,  7.66349711,  9.18353166],\n",
       "       [14.47545985, 23.86129281, 21.5914421 ],\n",
       "       [21.89336639,  7.0561706 ,  8.8494803 ],\n",
       "       [15.67142366, 13.08827926, 13.5683717 ],\n",
       "       [16.65730472, 11.34166383, 12.24792061],\n",
       "       [23.8383577 ,  8.09373574, 10.04556766],\n",
       "       [ 4.12913734,  3.15855408,  3.33244138],\n",
       "       [ 5.36601748,  7.33623489,  6.89142444],\n",
       "       [ 4.49827389,  1.17649255,  1.53843986],\n",
       "       [ 9.33350235, 20.53584408, 17.53957132],\n",
       "       [ 2.55454793, 10.19108008,  7.72749944],\n",
       "       [19.07235604, 14.21617367, 15.07672611],\n",
       "       [19.17939627, 10.30792442, 11.67088976],\n",
       "       [ 0.18541411,  6.30547137,  3.1146023 ],\n",
       "       [ 9.76686228,  4.91164917,  5.63550557],\n",
       "       [ 7.35105129, 13.81884933, 12.18000301],\n",
       "       [24.99813098, 19.27520376, 20.30395723],\n",
       "       [ 6.86291968,  6.67777774,  6.71440219],\n",
       "       [ 1.97790558,  3.98964731,  3.46727841],\n",
       "       [18.73263093,  0.41708617,  0.89268943],\n",
       "       [11.93127009, 23.81818281, 20.74264978],\n",
       "       [21.05181351,  7.15101882,  8.87467054],\n",
       "       [24.37993351,  0.59676261,  1.25327906],\n",
       "       [20.930863  , 12.38908735, 13.75906363],\n",
       "       [20.00610634,  0.34598411,  0.77889234],\n",
       "       [17.57551583, 12.14391051, 13.07580582],\n",
       "       [20.95900429, 21.97332836, 21.7666105 ],\n",
       "       [ 9.51324427,  2.93577712,  3.71401963],\n",
       "       [14.80310746,  8.97407131,  9.91886984],\n",
       "       [ 7.58573474, 14.9749789 , 13.07050916],\n",
       "       [ 5.36551617,  8.43047305,  7.70200608],\n",
       "       [12.41140691,  3.55723853,  4.56724798],\n",
       "       [17.51660134,  4.87581581,  6.29691458],\n",
       "       [19.3058541 , 15.35191773, 16.07192553],\n",
       "       [20.25804747, 23.42445036, 22.75385804],\n",
       "       [22.252614  , 14.37813194, 15.69055042],\n",
       "       [ 8.18167195,  5.54879806,  5.99691023],\n",
       "       [19.15000776, 22.7835325 , 22.00546952],\n",
       "       [15.58054546, 16.54833421, 16.35008287],\n",
       "       [12.45553112, 10.67633542, 11.01058054],\n",
       "       [21.25278213,  9.34239743, 11.01158483],\n",
       "       [10.44279142, 24.32104845, 20.53757465],\n",
       "       [ 4.86676697,  1.69374219,  2.09182792],\n",
       "       [16.64783549,  1.71147495,  2.69754062],\n",
       "       [ 7.97212945,  1.52844864,  2.12674563]])"
      ]
     },
     "execution_count": 2,
     "metadata": {},
     "output_type": "execute_result"
    }
   ],
   "source": [
    "# Tu código acá\n",
    "a=float(input(\"Ingrese la TMS de el bien a: \"))\n",
    "x=np.random.random((100,1))*25\n",
    "y=np.random.random((100,1))*25\n",
    "\n",
    "def cobbdouglas(x,y):\n",
    "    z=((x)**a)*((y)**(1-a))\n",
    "    \n",
    "    return(z)\n",
    "\n",
    "z=cobbdouglas(x,y)\n",
    "z\n",
    "\n",
    "mat=np.hstack((x,y,z))\n",
    "mat  "
   ]
  },
  {
   "cell_type": "code",
   "execution_count": 5,
   "metadata": {},
   "outputs": [
    {
     "data": {
      "text/plain": [
       "0      6.018649\n",
       "1     22.851263\n",
       "2     15.455340\n",
       "3     20.352031\n",
       "4     21.742197\n",
       "        ...    \n",
       "95    21.252782\n",
       "96    10.442791\n",
       "97     4.866767\n",
       "98    16.647835\n",
       "99     7.972129\n",
       "Length: 100, dtype: float64"
      ]
     },
     "execution_count": 5,
     "metadata": {},
     "output_type": "execute_result"
    }
   ],
   "source": [
    "pd.Series(x1.ravel())"
   ]
  },
  {
   "cell_type": "code",
   "execution_count": 4,
   "metadata": {},
   "outputs": [
    {
     "data": {
      "text/html": [
       "<div>\n",
       "<style scoped>\n",
       "    .dataframe tbody tr th:only-of-type {\n",
       "        vertical-align: middle;\n",
       "    }\n",
       "\n",
       "    .dataframe tbody tr th {\n",
       "        vertical-align: top;\n",
       "    }\n",
       "\n",
       "    .dataframe thead th {\n",
       "        text-align: right;\n",
       "    }\n",
       "</style>\n",
       "<table border=\"1\" class=\"dataframe\">\n",
       "  <thead>\n",
       "    <tr style=\"text-align: right;\">\n",
       "      <th></th>\n",
       "      <th>Bien 1</th>\n",
       "      <th>Bien 2</th>\n",
       "      <th>Utilidad</th>\n",
       "    </tr>\n",
       "  </thead>\n",
       "  <tbody>\n",
       "    <tr>\n",
       "      <td>0</td>\n",
       "      <td>6.018649</td>\n",
       "      <td>0.679407</td>\n",
       "      <td>1.051003</td>\n",
       "    </tr>\n",
       "    <tr>\n",
       "      <td>1</td>\n",
       "      <td>22.851263</td>\n",
       "      <td>21.306214</td>\n",
       "      <td>21.606632</td>\n",
       "    </tr>\n",
       "    <tr>\n",
       "      <td>2</td>\n",
       "      <td>15.455340</td>\n",
       "      <td>3.746788</td>\n",
       "      <td>4.974426</td>\n",
       "    </tr>\n",
       "    <tr>\n",
       "      <td>3</td>\n",
       "      <td>20.352031</td>\n",
       "      <td>22.181875</td>\n",
       "      <td>21.803196</td>\n",
       "    </tr>\n",
       "    <tr>\n",
       "      <td>4</td>\n",
       "      <td>21.742197</td>\n",
       "      <td>9.909762</td>\n",
       "      <td>11.596082</td>\n",
       "    </tr>\n",
       "    <tr>\n",
       "      <td>...</td>\n",
       "      <td>...</td>\n",
       "      <td>...</td>\n",
       "      <td>...</td>\n",
       "    </tr>\n",
       "    <tr>\n",
       "      <td>95</td>\n",
       "      <td>21.252782</td>\n",
       "      <td>9.342397</td>\n",
       "      <td>11.011585</td>\n",
       "    </tr>\n",
       "    <tr>\n",
       "      <td>96</td>\n",
       "      <td>10.442791</td>\n",
       "      <td>24.321048</td>\n",
       "      <td>20.537575</td>\n",
       "    </tr>\n",
       "    <tr>\n",
       "      <td>97</td>\n",
       "      <td>4.866767</td>\n",
       "      <td>1.693742</td>\n",
       "      <td>2.091828</td>\n",
       "    </tr>\n",
       "    <tr>\n",
       "      <td>98</td>\n",
       "      <td>16.647835</td>\n",
       "      <td>1.711475</td>\n",
       "      <td>2.697541</td>\n",
       "    </tr>\n",
       "    <tr>\n",
       "      <td>99</td>\n",
       "      <td>7.972129</td>\n",
       "      <td>1.528449</td>\n",
       "      <td>2.126746</td>\n",
       "    </tr>\n",
       "  </tbody>\n",
       "</table>\n",
       "<p>100 rows × 3 columns</p>\n",
       "</div>"
      ],
      "text/plain": [
       "       Bien 1     Bien 2   Utilidad\n",
       "0    6.018649   0.679407   1.051003\n",
       "1   22.851263  21.306214  21.606632\n",
       "2   15.455340   3.746788   4.974426\n",
       "3   20.352031  22.181875  21.803196\n",
       "4   21.742197   9.909762  11.596082\n",
       "..        ...        ...        ...\n",
       "95  21.252782   9.342397  11.011585\n",
       "96  10.442791  24.321048  20.537575\n",
       "97   4.866767   1.693742   2.091828\n",
       "98  16.647835   1.711475   2.697541\n",
       "99   7.972129   1.528449   2.126746\n",
       "\n",
       "[100 rows x 3 columns]"
      ]
     },
     "execution_count": 4,
     "metadata": {},
     "output_type": "execute_result"
    }
   ],
   "source": [
    "x1=mat[:,0] #Hago slicing de la matriz, si no pongo los dos puntos, los devuelve como lista.\n",
    "y1 = mat[:,1]\n",
    "z1= mat[:,2]\n",
    "\n",
    "#cantidad_bien1=(x1).tolist() #convierto ese npdarray, tolist()\n",
    "#cantidad_bien2=(y1).tolist()\n",
    "#utilidad=(z1).tolist()\n",
    "#Esto de aquí no es necesario\n",
    "\n",
    "#Q1 = pd.Series(cantidad_bien1) #Lo convierto a series\n",
    "#Q2 = pd.Series(cantidad_bien2)\n",
    "#Ut=pd.Series(utilidad) #Esto tampoco, puedo pasar, al siguiente paso de inmediato, sin hacerlo series.\n",
    "\n",
    "data_frame=pd.DataFrame({\"Bien 1\": x1   , \"Bien 2\": y1, \"Utilidad\": z1})\n",
    "data_frame"
   ]
  },
  {
   "cell_type": "code",
   "execution_count": 6,
   "metadata": {},
   "outputs": [
    {
     "data": {
      "text/plain": [
       "Bien 1      13.775052\n",
       "Bien 2      11.443131\n",
       "Utilidad    11.226402\n",
       "dtype: float64"
      ]
     },
     "execution_count": 6,
     "metadata": {},
     "output_type": "execute_result"
    }
   ],
   "source": [
    "data_frame.mean() #Funcion que obtiene el promedio de cada series en el Data Frame."
   ]
  },
  {
   "cell_type": "markdown",
   "metadata": {},
   "source": [
    "## Ejercicio 1.1\n",
    "\n",
    "De forma similar al ejercicio anterior, genere un `DataFrame` con los resultados de una función $y = f(x)$ con al menos 100 filas. \n",
    "\n",
    "- Grafique los resultados con `matplotlib` utilizando 2 variantes:\n",
    "\n",
    "    - a. Utilizando los arreglos de numpy (objetos `ndarray`) que utilizó para generar el `DataFrame`.\n",
    "    - b. Utilizando los objetos `Series` del `DataFrame`.\n",
    "    \n",
    "- Obtenga el objeto *handler* de la gráfica y guarde la gráfica en PDF.\n",
    "\n",
    "- Asegúrese de entender la diferencia entre generar la gráfica para guardarla (sin mostrarla) y generar la gráfica para mostrarla."
   ]
  },
  {
   "cell_type": "code",
   "execution_count": 7,
   "metadata": {},
   "outputs": [
    {
     "data": {
      "text/html": [
       "<div>\n",
       "<style scoped>\n",
       "    .dataframe tbody tr th:only-of-type {\n",
       "        vertical-align: middle;\n",
       "    }\n",
       "\n",
       "    .dataframe tbody tr th {\n",
       "        vertical-align: top;\n",
       "    }\n",
       "\n",
       "    .dataframe thead th {\n",
       "        text-align: right;\n",
       "    }\n",
       "</style>\n",
       "<table border=\"1\" class=\"dataframe\">\n",
       "  <thead>\n",
       "    <tr style=\"text-align: right;\">\n",
       "      <th></th>\n",
       "      <th>x</th>\n",
       "      <th>f(x)</th>\n",
       "    </tr>\n",
       "  </thead>\n",
       "  <tbody>\n",
       "    <tr>\n",
       "      <td>0</td>\n",
       "      <td>0</td>\n",
       "      <td>0</td>\n",
       "    </tr>\n",
       "    <tr>\n",
       "      <td>1</td>\n",
       "      <td>1</td>\n",
       "      <td>2</td>\n",
       "    </tr>\n",
       "    <tr>\n",
       "      <td>2</td>\n",
       "      <td>2</td>\n",
       "      <td>4</td>\n",
       "    </tr>\n",
       "    <tr>\n",
       "      <td>3</td>\n",
       "      <td>3</td>\n",
       "      <td>6</td>\n",
       "    </tr>\n",
       "    <tr>\n",
       "      <td>4</td>\n",
       "      <td>4</td>\n",
       "      <td>8</td>\n",
       "    </tr>\n",
       "  </tbody>\n",
       "</table>\n",
       "</div>"
      ],
      "text/plain": [
       "   x  f(x)\n",
       "0  0     0\n",
       "1  1     2\n",
       "2  2     4\n",
       "3  3     6\n",
       "4  4     8"
      ]
     },
     "execution_count": 7,
     "metadata": {},
     "output_type": "execute_result"
    }
   ],
   "source": [
    "v=np.arange(0,100,1) #Creación del array con 100 resultados\n",
    "v1=np.reshape(v,(100,1))\n",
    "result=2*v1 #Funcion lineal\n",
    "x=v1.ravel() #la hago lista de valores\n",
    "x1=pd.Series(x) #la convierto en una serie de datos\n",
    "fx=result.ravel() #convierto en lista los resultados\n",
    "fx1=pd.Series(fx) #convierto en serie fx\n",
    "data_frame2=pd.DataFrame({\"x\": v1[:,0] , \"f(x)\": fx1}) #creo el data frame.\n",
    "data_frame2.head() #el método head, me da los primeros 5 valores"
   ]
  },
  {
   "cell_type": "code",
   "execution_count": 8,
   "metadata": {},
   "outputs": [],
   "source": [
    "d=data_frame2.plot.scatter(x = \"x\" ,   y= \"f(x)\") #creo el data frame.\n",
    "d.get_figure().savefig(\"Otro_ejemplo.pdf\")"
   ]
  },
  {
   "cell_type": "code",
   "execution_count": 9,
   "metadata": {},
   "outputs": [],
   "source": [
    "import matplotlib.pyplot as plt\n",
    "import matplotlib #Importo el matplotlib para hacerlo con los arreglos de numpy"
   ]
  },
  {
   "cell_type": "code",
   "execution_count": 10,
   "metadata": {},
   "outputs": [
    {
     "data": {
      "image/png": "[encoded data removed]",
      "text/plain": [
       "<Figure size 1080x720 with 1 Axes>"
      ]
     },
     "metadata": {
      "needs_background": "light"
     },
     "output_type": "display_data"
    }
   ],
   "source": [
    "plt.figure(figsize=(15,10)) #Doy tamaño a una figura\n",
    "plt.plot(v1,result, \"r\") #Hago que lea el resultado desde los ndarray\n",
    "plt.xlabel('x') #Le pongo etiqueta a los ejes\n",
    "plt.ylabel('f(x)')\n",
    "plt.title(r\"Grafica de la funcion con objeto ndarray\") #Le digo que le ponga título\n",
    "plt.show() #Muestra la gráfica"
   ]
  },
  {
   "cell_type": "code",
   "execution_count": 11,
   "metadata": {},
   "outputs": [
    {
     "data": {
      "image/png": "[encoded data removed]",
      "text/plain": [
       "<Figure size 1080x720 with 1 Axes>"
      ]
     },
     "metadata": {
      "needs_background": "light"
     },
     "output_type": "display_data"
    },
    {
     "data": {
      "text/plain": [
       "<Figure size 432x288 with 0 Axes>"
      ]
     },
     "metadata": {},
     "output_type": "display_data"
    }
   ],
   "source": [
    "plt.figure(figsize=(15,10)) #Doy tamaño a una figura\n",
    "plt.plot(x1,fx1, \"r\") #Hago que lea el resultado desde los ndarray\n",
    "plt.xlabel('x') #Le pongo etiqueta a los ejes\n",
    "plt.ylabel('f(x)')\n",
    "plt.title(r\"Grafica de la funcion con objeto ndarray\") #Le digo que le ponga título\n",
    "plt.show() #Muestra la gráfica\n",
    "plt.savefig(\"Ejemplo.pdf\", format=\"pdf\", dpi=500)"
   ]
  },
  {
   "cell_type": "markdown",
   "metadata": {},
   "source": [
    "## Ejercicio 2\n",
    "\n",
    "1. Prueba 5 funciones de la primera página del *cheat sheet* no vistas en la exposición."
   ]
  },
  {
   "cell_type": "code",
   "execution_count": 12,
   "metadata": {},
   "outputs": [
    {
     "data": {
      "text/html": [
       "<div>\n",
       "<style scoped>\n",
       "    .dataframe tbody tr th:only-of-type {\n",
       "        vertical-align: middle;\n",
       "    }\n",
       "\n",
       "    .dataframe tbody tr th {\n",
       "        vertical-align: top;\n",
       "    }\n",
       "\n",
       "    .dataframe thead th {\n",
       "        text-align: right;\n",
       "    }\n",
       "</style>\n",
       "<table border=\"1\" class=\"dataframe\">\n",
       "  <thead>\n",
       "    <tr style=\"text-align: right;\">\n",
       "      <th></th>\n",
       "      <th>Bien 1</th>\n",
       "      <th>Bien 2</th>\n",
       "      <th>Utilidad</th>\n",
       "    </tr>\n",
       "  </thead>\n",
       "  <tbody>\n",
       "    <tr>\n",
       "      <td>68</td>\n",
       "      <td>0.185414</td>\n",
       "      <td>6.305471</td>\n",
       "      <td>3.114602</td>\n",
       "    </tr>\n",
       "    <tr>\n",
       "      <td>53</td>\n",
       "      <td>0.340176</td>\n",
       "      <td>9.503392</td>\n",
       "      <td>4.882517</td>\n",
       "    </tr>\n",
       "    <tr>\n",
       "      <td>34</td>\n",
       "      <td>0.624927</td>\n",
       "      <td>1.001719</td>\n",
       "      <td>0.911513</td>\n",
       "    </tr>\n",
       "    <tr>\n",
       "      <td>73</td>\n",
       "      <td>1.977906</td>\n",
       "      <td>3.989647</td>\n",
       "      <td>3.467278</td>\n",
       "    </tr>\n",
       "    <tr>\n",
       "      <td>16</td>\n",
       "      <td>2.342641</td>\n",
       "      <td>8.414098</td>\n",
       "      <td>6.515492</td>\n",
       "    </tr>\n",
       "    <tr>\n",
       "      <td>...</td>\n",
       "      <td>...</td>\n",
       "      <td>...</td>\n",
       "      <td>...</td>\n",
       "    </tr>\n",
       "    <tr>\n",
       "      <td>45</td>\n",
       "      <td>23.944301</td>\n",
       "      <td>24.736782</td>\n",
       "      <td>24.576215</td>\n",
       "    </tr>\n",
       "    <tr>\n",
       "      <td>19</td>\n",
       "      <td>24.244627</td>\n",
       "      <td>14.190908</td>\n",
       "      <td>15.795422</td>\n",
       "    </tr>\n",
       "    <tr>\n",
       "      <td>77</td>\n",
       "      <td>24.379934</td>\n",
       "      <td>0.596763</td>\n",
       "      <td>1.253279</td>\n",
       "    </tr>\n",
       "    <tr>\n",
       "      <td>33</td>\n",
       "      <td>24.660447</td>\n",
       "      <td>16.481662</td>\n",
       "      <td>17.864917</td>\n",
       "    </tr>\n",
       "    <tr>\n",
       "      <td>71</td>\n",
       "      <td>24.998131</td>\n",
       "      <td>19.275204</td>\n",
       "      <td>20.303957</td>\n",
       "    </tr>\n",
       "  </tbody>\n",
       "</table>\n",
       "<p>100 rows × 3 columns</p>\n",
       "</div>"
      ],
      "text/plain": [
       "       Bien 1     Bien 2   Utilidad\n",
       "68   0.185414   6.305471   3.114602\n",
       "53   0.340176   9.503392   4.882517\n",
       "34   0.624927   1.001719   0.911513\n",
       "73   1.977906   3.989647   3.467278\n",
       "16   2.342641   8.414098   6.515492\n",
       "..        ...        ...        ...\n",
       "45  23.944301  24.736782  24.576215\n",
       "19  24.244627  14.190908  15.795422\n",
       "77  24.379934   0.596763   1.253279\n",
       "33  24.660447  16.481662  17.864917\n",
       "71  24.998131  19.275204  20.303957\n",
       "\n",
       "[100 rows x 3 columns]"
      ]
     },
     "execution_count": 12,
     "metadata": {},
     "output_type": "execute_result"
    },
    {
     "data": {
      "image/png": "[encoded data removed]",
      "text/plain": [
       "<Figure size 432x288 with 1 Axes>"
      ]
     },
     "metadata": {
      "needs_background": "light"
     },
     "output_type": "display_data"
    },
    {
     "data": {
      "image/png": "[encoded data removed]",
      "text/plain": [
       "<Figure size 432x288 with 1 Axes>"
      ]
     },
     "metadata": {
      "needs_background": "light"
     },
     "output_type": "display_data"
    }
   ],
   "source": [
    "# funcion 1:\n",
    "data_frame.plot.scatter(x=\"Bien 1\", y= \"Bien 2\") #Scatter\n",
    "\n",
    "#función 2:\n",
    "data_frame.rename(columns={\"Bien 1\":\"Esto es una prueba\"}) #Cambia el nombre de las columnas\n",
    "\n",
    "#función 3:\n",
    "data_frame.plot.hist(\"Bien 2\") #Histogramas del Data Frame\n",
    "\n",
    "#función 4:\n",
    "data_frame.assign(Area=z1/2) #Crea una nueva columna en este caso con el nombre area y el número 3\n",
    "\n",
    "#función 5\n",
    "data_frame.sort_values(\"Bien 1\") #Ordena de forma ascendente los valores, en este caso del bien 1"
   ]
  },
  {
   "cell_type": "markdown",
   "metadata": {},
   "source": [
    "## Ejercicio 3\n",
    "\n",
    "Resuelva las siguientes preguntas utilizando las funciones de pandas. Ayúdese con la hoja de trucos."
   ]
  },
  {
   "cell_type": "code",
   "execution_count": 15,
   "metadata": {
    "scrolled": true
   },
   "outputs": [
    {
     "name": "stdout",
     "output_type": "stream",
     "text": [
      "<class 'pandas.core.frame.DataFrame'>\n",
      "RangeIndex: 891 entries, 0 to 890\n",
      "Data columns (total 12 columns):\n",
      "PassengerId    891 non-null int64\n",
      "Survived       891 non-null int64\n",
      "Pclass         891 non-null int64\n",
      "Name           891 non-null object\n",
      "Sex            891 non-null object\n",
      "Age            714 non-null float64\n",
      "SibSp          891 non-null int64\n",
      "Parch          891 non-null int64\n",
      "Ticket         891 non-null object\n",
      "Fare           891 non-null float64\n",
      "Cabin          204 non-null object\n",
      "Embarked       889 non-null object\n",
      "dtypes: float64(2), int64(5), object(5)\n",
      "memory usage: 83.7+ KB\n"
     ]
    }
   ],
   "source": [
    "df = pd.read_csv(\"titanic.csv\")\n",
    "df.info()"
   ]
  },
  {
   "cell_type": "markdown",
   "metadata": {},
   "source": [
    " - ¿Cuál es la tarifa máxima que se pagó? ¿Y la mediana?"
   ]
  },
  {
   "cell_type": "code",
   "execution_count": 16,
   "metadata": {},
   "outputs": [
    {
     "name": "stdout",
     "output_type": "stream",
     "text": [
      "PassengerId                            891\n",
      "Survived                                 1\n",
      "Pclass                                   3\n",
      "Name           van Melkebeke, Mr. Philemon\n",
      "Sex                                   male\n",
      "Age                                     80\n",
      "SibSp                                    8\n",
      "Parch                                    6\n",
      "Ticket                           WE/P 5735\n",
      "Fare                               512.329\n",
      "dtype: object\n",
      "PassengerId    446.0000\n",
      "Survived         0.0000\n",
      "Pclass           3.0000\n",
      "Age             28.0000\n",
      "SibSp            0.0000\n",
      "Parch            0.0000\n",
      "Fare            14.4542\n",
      "dtype: float64\n"
     ]
    }
   ],
   "source": [
    "# Tu código acá\n",
    "z=df.max()\n",
    "y=df.median()\n",
    "print(z)\n",
    "print(y)"
   ]
  },
  {
   "cell_type": "markdown",
   "metadata": {},
   "source": [
    "- Calcule la tasa de supervivencia promedio para todos los pasajeros (nota: la columna `Survived` indica si alguien sobrevivió (1) o no (0))."
   ]
  },
  {
   "cell_type": "code",
   "execution_count": 17,
   "metadata": {},
   "outputs": [
    {
     "data": {
      "text/plain": [
       "Survived    0.383838\n",
       "dtype: float64"
      ]
     },
     "execution_count": 17,
     "metadata": {},
     "output_type": "execute_result"
    }
   ],
   "source": [
    "# Tu código acá\n",
    "(df.groupby(\"PassengerId\")[[\"Survived\"]].aggregate(lambda x: x.sum()/len(x))).mean()"
   ]
  },
  {
   "cell_type": "markdown",
   "metadata": {},
   "source": [
    "- Haga una gráfica de la distribución de edades de los pasajeros del Titanic"
   ]
  },
  {
   "cell_type": "code",
   "execution_count": 18,
   "metadata": {},
   "outputs": [
    {
     "data": {
      "text/plain": [
       "<matplotlib.axes._subplots.AxesSubplot at 0x1802b7f78c8>"
      ]
     },
     "execution_count": 18,
     "metadata": {},
     "output_type": "execute_result"
    },
    {
     "data": {
      "image/png": "[encoded data removed]",
      "text/plain": [
       "<Figure size 432x288 with 1 Axes>"
      ]
     },
     "metadata": {
      "needs_background": "light"
     },
     "output_type": "display_data"
    }
   ],
   "source": [
    "# Tu código acá\n",
    "df[\"Age\"].hist()"
   ]
  },
  {
   "cell_type": "markdown",
   "metadata": {},
   "source": [
    "- Según el conjunto de datos del Titanic, seleccione todas las filas para pasajeros masculinos y calcule la edad media de esos pasajeros. Haz lo mismo para las pasajeras."
   ]
  },
  {
   "cell_type": "code",
   "execution_count": 19,
   "metadata": {},
   "outputs": [
    {
     "name": "stdout",
     "output_type": "stream",
     "text": [
      "30.72664459161148\n",
      "27.915708812260537\n"
     ]
    }
   ],
   "source": [
    "# Tu código acá\n",
    "hombres=df[df[\"Sex\"]==\"male\"]\n",
    "print(hombres[\"Age\"].mean())\n",
    "mujeres=df[df[\"Sex\"]==\"female\"]\n",
    "print(mujeres[\"Age\"].mean())"
   ]
  },
  {
   "cell_type": "markdown",
   "metadata": {},
   "source": [
    "- Según el conjunto de datos del Titanic, ¿cuántos pasajeros mayores de 70 estaban en el Titanic?"
   ]
  },
  {
   "cell_type": "code",
   "execution_count": 20,
   "metadata": {},
   "outputs": [
    {
     "data": {
      "text/html": [
       "<div>\n",
       "<style scoped>\n",
       "    .dataframe tbody tr th:only-of-type {\n",
       "        vertical-align: middle;\n",
       "    }\n",
       "\n",
       "    .dataframe tbody tr th {\n",
       "        vertical-align: top;\n",
       "    }\n",
       "\n",
       "    .dataframe thead th {\n",
       "        text-align: right;\n",
       "    }\n",
       "</style>\n",
       "<table border=\"1\" class=\"dataframe\">\n",
       "  <thead>\n",
       "    <tr style=\"text-align: right;\">\n",
       "      <th></th>\n",
       "      <th>PassengerId</th>\n",
       "      <th>Survived</th>\n",
       "      <th>Pclass</th>\n",
       "      <th>Name</th>\n",
       "      <th>Sex</th>\n",
       "      <th>Age</th>\n",
       "      <th>SibSp</th>\n",
       "      <th>Parch</th>\n",
       "      <th>Ticket</th>\n",
       "      <th>Fare</th>\n",
       "      <th>Cabin</th>\n",
       "      <th>Embarked</th>\n",
       "    </tr>\n",
       "  </thead>\n",
       "  <tbody>\n",
       "    <tr>\n",
       "      <td>96</td>\n",
       "      <td>97</td>\n",
       "      <td>0</td>\n",
       "      <td>1</td>\n",
       "      <td>Goldschmidt, Mr. George B</td>\n",
       "      <td>male</td>\n",
       "      <td>71.0</td>\n",
       "      <td>0</td>\n",
       "      <td>0</td>\n",
       "      <td>PC 17754</td>\n",
       "      <td>34.6542</td>\n",
       "      <td>A5</td>\n",
       "      <td>C</td>\n",
       "    </tr>\n",
       "    <tr>\n",
       "      <td>116</td>\n",
       "      <td>117</td>\n",
       "      <td>0</td>\n",
       "      <td>3</td>\n",
       "      <td>Connors, Mr. Patrick</td>\n",
       "      <td>male</td>\n",
       "      <td>70.5</td>\n",
       "      <td>0</td>\n",
       "      <td>0</td>\n",
       "      <td>370369</td>\n",
       "      <td>7.7500</td>\n",
       "      <td>NaN</td>\n",
       "      <td>Q</td>\n",
       "    </tr>\n",
       "    <tr>\n",
       "      <td>493</td>\n",
       "      <td>494</td>\n",
       "      <td>0</td>\n",
       "      <td>1</td>\n",
       "      <td>Artagaveytia, Mr. Ramon</td>\n",
       "      <td>male</td>\n",
       "      <td>71.0</td>\n",
       "      <td>0</td>\n",
       "      <td>0</td>\n",
       "      <td>PC 17609</td>\n",
       "      <td>49.5042</td>\n",
       "      <td>NaN</td>\n",
       "      <td>C</td>\n",
       "    </tr>\n",
       "    <tr>\n",
       "      <td>630</td>\n",
       "      <td>631</td>\n",
       "      <td>1</td>\n",
       "      <td>1</td>\n",
       "      <td>Barkworth, Mr. Algernon Henry Wilson</td>\n",
       "      <td>male</td>\n",
       "      <td>80.0</td>\n",
       "      <td>0</td>\n",
       "      <td>0</td>\n",
       "      <td>27042</td>\n",
       "      <td>30.0000</td>\n",
       "      <td>A23</td>\n",
       "      <td>S</td>\n",
       "    </tr>\n",
       "    <tr>\n",
       "      <td>851</td>\n",
       "      <td>852</td>\n",
       "      <td>0</td>\n",
       "      <td>3</td>\n",
       "      <td>Svensson, Mr. Johan</td>\n",
       "      <td>male</td>\n",
       "      <td>74.0</td>\n",
       "      <td>0</td>\n",
       "      <td>0</td>\n",
       "      <td>347060</td>\n",
       "      <td>7.7750</td>\n",
       "      <td>NaN</td>\n",
       "      <td>S</td>\n",
       "    </tr>\n",
       "  </tbody>\n",
       "</table>\n",
       "</div>"
      ],
      "text/plain": [
       "     PassengerId  Survived  Pclass                                  Name  \\\n",
       "96            97         0       1             Goldschmidt, Mr. George B   \n",
       "116          117         0       3                  Connors, Mr. Patrick   \n",
       "493          494         0       1               Artagaveytia, Mr. Ramon   \n",
       "630          631         1       1  Barkworth, Mr. Algernon Henry Wilson   \n",
       "851          852         0       3                   Svensson, Mr. Johan   \n",
       "\n",
       "      Sex   Age  SibSp  Parch    Ticket     Fare Cabin Embarked  \n",
       "96   male  71.0      0      0  PC 17754  34.6542    A5        C  \n",
       "116  male  70.5      0      0    370369   7.7500   NaN        Q  \n",
       "493  male  71.0      0      0  PC 17609  49.5042   NaN        C  \n",
       "630  male  80.0      0      0     27042  30.0000   A23        S  \n",
       "851  male  74.0      0      0    347060   7.7750   NaN        S  "
      ]
     },
     "execution_count": 20,
     "metadata": {},
     "output_type": "execute_result"
    }
   ],
   "source": [
    "# Tu código acá\n",
    "df[df[\"Age\"]>70]"
   ]
  },
  {
   "cell_type": "markdown",
   "metadata": {},
   "source": [
    "- Calcula la edad promedio para cada sexo. Ahora utiliza el método `groupby`."
   ]
  },
  {
   "cell_type": "code",
   "execution_count": 21,
   "metadata": {},
   "outputs": [
    {
     "data": {
      "text/html": [
       "<div>\n",
       "<style scoped>\n",
       "    .dataframe tbody tr th:only-of-type {\n",
       "        vertical-align: middle;\n",
       "    }\n",
       "\n",
       "    .dataframe tbody tr th {\n",
       "        vertical-align: top;\n",
       "    }\n",
       "\n",
       "    .dataframe thead th {\n",
       "        text-align: right;\n",
       "    }\n",
       "</style>\n",
       "<table border=\"1\" class=\"dataframe\">\n",
       "  <thead>\n",
       "    <tr style=\"text-align: right;\">\n",
       "      <th></th>\n",
       "      <th>Age</th>\n",
       "    </tr>\n",
       "    <tr>\n",
       "      <th>Sex</th>\n",
       "      <th></th>\n",
       "    </tr>\n",
       "  </thead>\n",
       "  <tbody>\n",
       "    <tr>\n",
       "      <td>female</td>\n",
       "      <td>27.915709</td>\n",
       "    </tr>\n",
       "    <tr>\n",
       "      <td>male</td>\n",
       "      <td>30.726645</td>\n",
       "    </tr>\n",
       "  </tbody>\n",
       "</table>\n",
       "</div>"
      ],
      "text/plain": [
       "              Age\n",
       "Sex              \n",
       "female  27.915709\n",
       "male    30.726645"
      ]
     },
     "execution_count": 21,
     "metadata": {},
     "output_type": "execute_result"
    }
   ],
   "source": [
    "# Tu código acá\n",
    "(df.groupby(\"Sex\")[[\"Age\"]].mean())"
   ]
  },
  {
   "cell_type": "markdown",
   "metadata": {},
   "source": [
    "- Calcule esta relación de supervivencia para todos los pasajeros menores de 25 años (recuerde: filtrado / indexación booleana)."
   ]
  },
  {
   "cell_type": "code",
   "execution_count": 22,
   "metadata": {},
   "outputs": [
    {
     "data": {
      "text/plain": [
       "0.4244604316546763"
      ]
     },
     "execution_count": 22,
     "metadata": {},
     "output_type": "execute_result"
    }
   ],
   "source": [
    "# Tu código acá\n",
    "menores_de_25=df[df[\"Age\"]<25]\n",
    "menores_de_25[\"Survived\"].sum()/menores_de_25[\"Survived\"].count()"
   ]
  },
  {
   "cell_type": "markdown",
   "metadata": {},
   "source": [
    "- ¿Cuál es la diferencia en la proporción de supervivencia entre sexos?"
   ]
  },
  {
   "cell_type": "code",
   "execution_count": 23,
   "metadata": {},
   "outputs": [
    {
     "data": {
      "text/plain": [
       "0.3920863309352518"
      ]
     },
     "execution_count": 23,
     "metadata": {},
     "output_type": "execute_result"
    }
   ],
   "source": [
    "# Tu código acá\n",
    "hombres_menores_de_25=df[df[\"Sex\"]==\"male\"]\n",
    "hombres_menores_de_25[\"Survived\"].sum()/menores_de_25[\"Survived\"].count()"
   ]
  },
  {
   "cell_type": "code",
   "execution_count": 24,
   "metadata": {},
   "outputs": [
    {
     "data": {
      "text/plain": [
       "0.8381294964028777"
      ]
     },
     "execution_count": 24,
     "metadata": {},
     "output_type": "execute_result"
    }
   ],
   "source": [
    "mujeres_menores_de_25=df[df[\"Sex\"]==\"female\"]\n",
    "mujeres_menores_de_25[\"Survived\"].sum()/menores_de_25[\"Survived\"].count()"
   ]
  },
  {
   "cell_type": "markdown",
   "metadata": {},
   "source": [
    "- ¿O cómo difiere la proporción de sobrevivientes entre las diferentes clases de pasajeros? Haz una gráfica de barras visualizando la relación de supervivencia para las 3 clases."
   ]
  },
  {
   "cell_type": "code",
   "execution_count": 25,
   "metadata": {},
   "outputs": [
    {
     "data": {
      "text/html": [
       "<div>\n",
       "<style scoped>\n",
       "    .dataframe tbody tr th:only-of-type {\n",
       "        vertical-align: middle;\n",
       "    }\n",
       "\n",
       "    .dataframe tbody tr th {\n",
       "        vertical-align: top;\n",
       "    }\n",
       "\n",
       "    .dataframe thead th {\n",
       "        text-align: right;\n",
       "    }\n",
       "</style>\n",
       "<table border=\"1\" class=\"dataframe\">\n",
       "  <thead>\n",
       "    <tr style=\"text-align: right;\">\n",
       "      <th></th>\n",
       "      <th>Survived</th>\n",
       "    </tr>\n",
       "    <tr>\n",
       "      <th>Pclass</th>\n",
       "      <th></th>\n",
       "    </tr>\n",
       "  </thead>\n",
       "  <tbody>\n",
       "    <tr>\n",
       "      <td>1</td>\n",
       "      <td>0.629630</td>\n",
       "    </tr>\n",
       "    <tr>\n",
       "      <td>2</td>\n",
       "      <td>0.472826</td>\n",
       "    </tr>\n",
       "    <tr>\n",
       "      <td>3</td>\n",
       "      <td>0.242363</td>\n",
       "    </tr>\n",
       "  </tbody>\n",
       "</table>\n",
       "</div>"
      ],
      "text/plain": [
       "        Survived\n",
       "Pclass          \n",
       "1       0.629630\n",
       "2       0.472826\n",
       "3       0.242363"
      ]
     },
     "execution_count": 25,
     "metadata": {},
     "output_type": "execute_result"
    }
   ],
   "source": [
    "# Tu código acá\n",
    "(df.groupby(\"Pclass\")[[\"Survived\"]].mean())\n"
   ]
  },
  {
   "cell_type": "code",
   "execution_count": 26,
   "metadata": {},
   "outputs": [
    {
     "data": {
      "text/plain": [
       "<matplotlib.axes._subplots.AxesSubplot at 0x1802a013dc8>"
      ]
     },
     "execution_count": 26,
     "metadata": {},
     "output_type": "execute_result"
    },
    {
     "data": {
      "image/png": "[encoded data removed]",
      "text/plain": [
       "<Figure size 432x288 with 1 Axes>"
      ]
     },
     "metadata": {
      "needs_background": "light"
     },
     "output_type": "display_data"
    }
   ],
   "source": [
    "(df.groupby(\"Pclass\")[[\"Survived\"]].mean().plot(kind=\"bar\"))"
   ]
  },
  {
   "cell_type": "markdown",
   "metadata": {},
   "source": [
    "- Haga una gráfica de barras para visualizar la tarifa promedio pagada por los pasajeros de acuerdo a su edad. Para esto:\n",
    "    - Primero, separamos a los pasajeros por rango, utilizando la función `pd.cut` y agregamos esta serie al DataFrame.\n",
    "    - Debemos agrupar por esta columna y calcular el promedio de las tarifas.\n",
    "    - Por último, agregamos `plot(kind='bar')` para obtener la gráfica de barras."
   ]
  },
  {
   "cell_type": "code",
   "execution_count": 27,
   "metadata": {
    "clear_cell": false,
    "run_control": {
     "frozen": false,
     "read_only": false
    }
   },
   "outputs": [
    {
     "data": {
      "text/html": [
       "<div>\n",
       "<style scoped>\n",
       "    .dataframe tbody tr th:only-of-type {\n",
       "        vertical-align: middle;\n",
       "    }\n",
       "\n",
       "    .dataframe tbody tr th {\n",
       "        vertical-align: top;\n",
       "    }\n",
       "\n",
       "    .dataframe thead th {\n",
       "        text-align: right;\n",
       "    }\n",
       "</style>\n",
       "<table border=\"1\" class=\"dataframe\">\n",
       "  <thead>\n",
       "    <tr style=\"text-align: right;\">\n",
       "      <th></th>\n",
       "      <th>Fare</th>\n",
       "    </tr>\n",
       "    <tr>\n",
       "      <th>AgeClass</th>\n",
       "      <th></th>\n",
       "    </tr>\n",
       "  </thead>\n",
       "  <tbody>\n",
       "    <tr>\n",
       "      <td>(0, 10]</td>\n",
       "      <td>30.434439</td>\n",
       "    </tr>\n",
       "    <tr>\n",
       "      <td>(10, 20]</td>\n",
       "      <td>29.529531</td>\n",
       "    </tr>\n",
       "    <tr>\n",
       "      <td>(20, 30]</td>\n",
       "      <td>28.306719</td>\n",
       "    </tr>\n",
       "    <tr>\n",
       "      <td>(30, 40]</td>\n",
       "      <td>42.496100</td>\n",
       "    </tr>\n",
       "    <tr>\n",
       "      <td>(40, 50]</td>\n",
       "      <td>41.163181</td>\n",
       "    </tr>\n",
       "    <tr>\n",
       "      <td>(50, 60]</td>\n",
       "      <td>44.774802</td>\n",
       "    </tr>\n",
       "    <tr>\n",
       "      <td>(60, 70]</td>\n",
       "      <td>45.910782</td>\n",
       "    </tr>\n",
       "    <tr>\n",
       "      <td>(70, 80]</td>\n",
       "      <td>25.936680</td>\n",
       "    </tr>\n",
       "  </tbody>\n",
       "</table>\n",
       "</div>"
      ],
      "text/plain": [
       "               Fare\n",
       "AgeClass           \n",
       "(0, 10]   30.434439\n",
       "(10, 20]  29.529531\n",
       "(20, 30]  28.306719\n",
       "(30, 40]  42.496100\n",
       "(40, 50]  41.163181\n",
       "(50, 60]  44.774802\n",
       "(60, 70]  45.910782\n",
       "(70, 80]  25.936680"
      ]
     },
     "execution_count": 27,
     "metadata": {},
     "output_type": "execute_result"
    }
   ],
   "source": [
    "a=df['AgeClass'] = pd.cut(df['Age'], bins=np.arange(0,90,10))\n",
    "# Tu código acá\n",
    "npd=pd.merge(df,a,\"left\")\n",
    "(df.groupby(\"AgeClass\")[[\"Fare\"]].mean())\n"
   ]
  },
  {
   "cell_type": "code",
   "execution_count": 28,
   "metadata": {},
   "outputs": [
    {
     "data": {
      "text/plain": [
       "<matplotlib.axes._subplots.AxesSubplot at 0x1802b8e4908>"
      ]
     },
     "execution_count": 28,
     "metadata": {},
     "output_type": "execute_result"
    },
    {
     "data": {
      "image/png": "[encoded data removed]",
      "text/plain": [
       "<Figure size 432x288 with 1 Axes>"
      ]
     },
     "metadata": {
      "needs_background": "light"
     },
     "output_type": "display_data"
    }
   ],
   "source": [
    "(df.groupby(\"AgeClass\")[[\"Fare\"]].mean().plot(kind=\"bar\"))"
   ]
  }
 ],
 "metadata": {
  "kernelspec": {
   "display_name": "Python 3",
   "language": "python",
   "name": "python3"
  },
  "language_info": {
   "codemirror_mode": {
    "name": "ipython",
    "version": 3
   },
   "file_extension": ".py",
   "mimetype": "text/x-python",
   "name": "python",
   "nbconvert_exporter": "python",
   "pygments_lexer": "ipython3",
   "version": "3.7.4"
  }
 },
 "nbformat": 4,
 "nbformat_minor": 2
}
