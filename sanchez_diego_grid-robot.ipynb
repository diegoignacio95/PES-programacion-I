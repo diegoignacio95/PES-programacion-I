{
 "cells": [
  {
   "cell_type": "markdown",
   "metadata": {},
   "source": [
    "### Programa de Estudios Superiores 2019-2020\n",
    "### Programación I - proyecto final\n",
    "#### Elaborado por <span class=\"alert alert-info\"> ***Diego Sánchez*** </span><br>\n",
    "***\n",
    "***Instrucciones generales:*** resuelve el siguiente problema de acuerdo a la especificación dada. \n",
    "- El código debe ir comentado para explicar la lógica y debe ser totalmente funcional para ser considerado correcto. De lo contrario, la calificación podrá ser subjetiva.\n",
    "- Al final de la definición de la clase, obtenga una instancia y muestra que el objeto se comporta de acuerdo a las especificaciones deseadas, para poder calificarte más rápidamente.\n",
    "***"
   ]
  },
  {
   "attachments": {
    "grid-robot.png": {
     "image/png": "[encoded data removed]"
    }
   },
   "cell_type": "markdown",
   "metadata": {},
   "source": [
    "# *Drunken robot*\n",
    "\n",
    "Considere un robot que sigue una caminata aleatoria dentro de una cuadícula unidimensional, como se muestra a continuación. En cada período, el robot se mueve aleatoriamente hacia la izquierda o hacia la derecha (siempre y cuando sea posible), para ocupar una casilla diferente. Cuando el robot ocupa una casilla, esta casilla se marca de color amarillo.  \n",
    "\n",
    "![grid-robot.png](attachment:grid-robot.png)\n",
    "\n",
    "Un amigo suyo, economista, cree que este proceso estocástico puede ayudarle a entender un problema de reversión a la media de una serie de tiempo con la que está teniendo problemas recientemente, por lo que le interesa el problema de este robot. Para esto, su amigo necesita entender cuántos períodos le puede tomar a este robot marcar toda la cuadrícula de color amarillo. Entonces, le ha pedido ayuda a usted para que le ayude con algunas simulaciones.\n",
    "\n",
    "Usted ha llevado recientemente un curso de programación y pretende resolver este problema a través de la implementación de una clase de Python. \n",
    "\n",
    "## Descripción de la clase\n",
    "\n",
    "Usted va a implementar la simulación a través de la clase `DrunkenRobot` de la siguiente forma:\n",
    "\n",
    "- Al crear un objeto de esta clase, el constructor debe recibir la cantidad $n$ de casillas para crear la cuadrícula y posicionará al robot en una de estas casillas de forma aleatoria.\n",
    "\n",
    "Además, deberá implementar los siguientes métodos:\n",
    "\n",
    "- Método `takeStep` que lleve a cabo un paso del robot y marque la nueva casilla como visitada. El robot debe llevar un registro de todos los pasos que ha tomado y en qué período lo ha hecho.\n",
    "\n",
    "- `conquerAll` que utilice el método `takeStep` para mover el robot hasta visitar toda la cuadrícula.\n",
    "\n",
    "- `plotSteps` que haga una gráfica de la posición del robot (número de casilla) en cada período. Debe llamarse posterior a la ejecución de `conquerAll`.\n",
    "    - Deberá agregar una opción booleana `savePlot` para escoger si guardar la gráfica en un formato de alta calidad.\n",
    "\n",
    "- `getTrajectory` que devolverá un `DataFrame` de pandas con la posición del robot en cada período. Debe llamarse posterior a la ejecución de `conquerAll`.\n",
    "\n",
    "- **Extra**: `getCumulativeTrajectory` que devolverá un `DataFrame` de pandas con el número de casillas visitadas en cada período."
   ]
  },
  {
   "cell_type": "markdown",
   "metadata": {},
   "source": [
    "<div class=\"alert alert-info\">\n",
    "<b>Importe los paquetes que sean necesarios</b>: <br>\n",
    "\n",
    "\n",
    "</div>"
   ]
  },
  {
   "cell_type": "code",
   "execution_count": 27,
   "metadata": {},
   "outputs": [],
   "source": [
    "import numpy as np\n",
    "import matplotlib\n",
    "import matplotlib.pyplot as plt\n",
    "import pandas as pd\n",
    "import random"
   ]
  },
  {
   "cell_type": "markdown",
   "metadata": {},
   "source": [
    "<div class=\"alert alert-info\">\n",
    "<b>Escriba su código en la celda siguiente</b>: <br>\n",
    "\n",
    "\n",
    "</div>"
   ]
  },
  {
   "cell_type": "code",
   "execution_count": 353,
   "metadata": {},
   "outputs": [],
   "source": [
    "class DrunkenRobot(object):\n",
    "    \n",
    "    def __init__(self, n):      \n",
    "        \n",
    "        \n",
    "        ''' \n",
    "        Recibe la cantidad de casillas n de la cuadrícula y \n",
    "        posiciona aleatoriamente al robot.\n",
    "        '''\n",
    "\n",
    "        self.n=n #Me define las n casillas que quiere el usuario.\n",
    "        \n",
    "    \n",
    "    def takeStep(self):\n",
    "        \n",
    "        '''\n",
    "        Lleva a cabo un paso del robot y marca la nueva casilla \n",
    "        como visitada. El robot debe llevar un registro de todos\n",
    "        los pasos que ha tomado y en qué período lo ha hecho.\n",
    "        '''\n",
    "\n",
    "        cinta=np.arange(self.n) #Me crea un array en donde tengo la cinta\n",
    "        posicion=random.randint(0,n-1) #Me da la posicion de inicio del robot.\n",
    "        posiciones=[posicion] #Lista vacía donde voy a guardar las posiciones\n",
    "        \n",
    "        nueva_posicion = random.randint(0,n-1) #Nueva posicion del robot\n",
    "        if nueva_posicion!=posicion:\n",
    "            posiciones.append(nueva_posicion)\n",
    "        \n",
    "        return(posiciones)\n",
    "    \n",
    "        #Creo una lista, que tiene ya la posicion actual, luego veo otra posicion, esto se agrega a mi lista de\n",
    "        #de posiciones si y solo sí la posicion actual es difernte a la posicion a la nueva posicion, hasta\n",
    "        #ese momento cuenta el turno.\n",
    "        \n",
    "        print(posiciones)\n",
    "    \n",
    "    \n",
    "        '''\n",
    "        Si la nueva posicion es diferente a aquella que tenia el robot\n",
    "        antes, entonces, se agregará a una lista de posiciones, cada\n",
    "        posicion en la lista, registra un período.\n",
    "        \n",
    "        '''\n",
    "        \n",
    "    def conquerAll(self):\n",
    "        '''\n",
    "        Lleva al robot a recorrer toda la cuadrícula.\n",
    "        '''\n",
    "        tablero=[]\n",
    "        for i in cinta:\n",
    "            tablero.append(i)\n",
    "        tablero   \n",
    "        '''\n",
    "        El motivo de lo de arriba, es crear una lista, que guarde todas las posiciones del array,\n",
    "        esto para compararlo luego\n",
    "        '''\n",
    "\n",
    "        lista_posiciones=[]\n",
    "        for posicion in posiciones:\n",
    "            if posicion not in lista_posiciones:\n",
    "                lista_total.append(elements)\n",
    "        sorted(lista_total) \n",
    "\n",
    "        #Lo que busco con lo de arriba, es hacer un ciclo con la lista de posiciones de take step, si no \n",
    "        #ha sucedido esa posicion, entonces, la agrego, y la ordeno.\n",
    "\n",
    "\n",
    "        while lista_posiciones!=tablero:\n",
    "            takeStep(self)\n",
    "\n",
    "        #Lo que busco con lo de arrible esque mientras el tablero, sea diferente a la lista de posiciones,\n",
    "        #Que llame al metodo take step nuevamente.\n",
    "\n",
    "        return(posiciones)\n",
    "        \n",
    "        print(posiciones)\n",
    "    \n",
    "    \n",
    "            \n",
    "        \n",
    "    def plotSteps(self, savePlot=False):\n",
    "\n",
    "        '''\n",
    "        Realiza una gráfica de la posición del robot (número de casilla)\n",
    "        en cada período. La opción booleana `savePlot` permite\n",
    "        escoger si guardar la gráfica en un formato de alta calidad.\n",
    "        '''\n",
    "        if lista_posiciones==tablero:\n",
    "\n",
    "            plt.figure(figsize=(8, 6), dpi=100)\n",
    "            plt.subplot(111)\n",
    "\n",
    "            eje_del_tiempo=[]\n",
    "            i=0\n",
    "            while i<len (posiciones):\n",
    "                posiciones.append(i)\n",
    "                i+=1\n",
    "            eje_del_tiempo\n",
    "\n",
    "            x=pd.Series(eje_del_tiempo)\n",
    "\n",
    "            y=pd.Series(posiciones)\n",
    "\n",
    "            plt.figure(figsize=(15,10)) #Doy tamaño a una figura\n",
    "            plt.plot(x,y, \"r\") #Hago que lea el resultado desde los ndarray\n",
    "            plt.xlabel('Período') #Le pongo etiqueta a los ejes\n",
    "            plt.ylabel('Posición')\n",
    "            plt.title(r\"Caminata Aleatoria del Robot\") #Le digo que le ponga título\n",
    "            plt.show() #Muestra la gráfica\n",
    "            plt.savefig(\"./caminata_aleatoria.pdf\", format='pdf', dpi=80)\n",
    "\n",
    "        return(plt.show)\n",
    "        \n",
    "    def getTrajectory(self):\n",
    "\n",
    "        if lista_posiciones==tablero:\n",
    "\n",
    "            eje_del_tiempo=[]\n",
    "            i=0\n",
    "\n",
    "            while i<len (posiciones):\n",
    "                posiciones.append(i)\n",
    "                i+=1\n",
    "            eje_del_tiempo\n",
    "\n",
    "            x=pd.Series(eje_del_tiempo)\n",
    "\n",
    "            y=pd.Series(posiciones)\n",
    "\n",
    "            data_frame=pd.DataFrame({\"Período\": x   , \"Posicion\": y1})\n",
    "\n",
    "            data_frame\n",
    "                \n",
    "                \n",
    "        \n",
    "        \n",
    "        \n",
    "        \n",
    "        \n",
    "        \n",
    "        \n",
    "        \n",
    "        \n",
    "            \"\"\"\"\n",
    "            '''\n",
    "            EXTRA.\n",
    "            Devuelve un `DataFrame` de pandas con el número de \n",
    "            casillas visitadas en cada período.\n",
    "            '''\n",
    "        def getCumulativeTrajectory(self):\n",
    "             pass\n",
    "             \n",
    "            \"\"\""
   ]
  },
  {
   "cell_type": "markdown",
   "metadata": {},
   "source": [
    "***\n",
    "## Área de pruebas personal\n",
    "\n",
    "Utilice el siguiente espacio para llevar a cabo **sus** pruebas.\n"
   ]
  },
  {
   "cell_type": "code",
   "execution_count": 219,
   "metadata": {},
   "outputs": [
    {
     "data": {
      "text/plain": [
       "array([0, 1, 2, 3, 4, 5, 6])"
      ]
     },
     "execution_count": 219,
     "metadata": {},
     "output_type": "execute_result"
    }
   ],
   "source": [
    "n=7\n",
    "cinta=np.arange(n)\n",
    "cinta"
   ]
  },
  {
   "cell_type": "code",
   "execution_count": 220,
   "metadata": {},
   "outputs": [
    {
     "data": {
      "text/plain": [
       "5"
      ]
     },
     "execution_count": 220,
     "metadata": {},
     "output_type": "execute_result"
    }
   ],
   "source": [
    "posicion=(random.randint(1,n-1))\n",
    "posicion"
   ]
  },
  {
   "cell_type": "code",
   "execution_count": 221,
   "metadata": {},
   "outputs": [
    {
     "data": {
      "text/plain": [
       "5"
      ]
     },
     "execution_count": 221,
     "metadata": {},
     "output_type": "execute_result"
    }
   ],
   "source": [
    "nueva_posicion = random.randint(0,n) \n",
    "nueva_posicion"
   ]
  },
  {
   "cell_type": "code",
   "execution_count": 254,
   "metadata": {},
   "outputs": [
    {
     "data": {
      "text/plain": [
       "[3, 1, 1, 7, 1, 1, 7, 1, 5, 6, 1, 4, 5, 2, 4, 4, 6, 7, 7, 6]"
      ]
     },
     "execution_count": 254,
     "metadata": {},
     "output_type": "execute_result"
    }
   ],
   "source": [
    "t=0\n",
    "posiciones=[]\n",
    "while t < 20:\n",
    "    nueva_posicion = random.randint(0,n)\n",
    "    posiciones.append(nueva_posicion)\n",
    "    t+=1\n",
    "posiciones"
   ]
  },
  {
   "cell_type": "code",
   "execution_count": 225,
   "metadata": {},
   "outputs": [
    {
     "data": {
      "text/plain": [
       "[0, 1, 2, 3, 4, 5, 6, 7]"
      ]
     },
     "execution_count": 225,
     "metadata": {},
     "output_type": "execute_result"
    }
   ],
   "source": [
    "lista_total=[]\n",
    "for elements in posiciones:\n",
    "    if elements not in lista_total:\n",
    "        lista_total.append(elements)\n",
    "sorted(lista_total)        "
   ]
  },
  {
   "cell_type": "code",
   "execution_count": 217,
   "metadata": {},
   "outputs": [
    {
     "ename": "KeyboardInterrupt",
     "evalue": "",
     "output_type": "error",
     "traceback": [
      "\u001b[1;31m---------------------------------------------------------------------------\u001b[0m",
      "\u001b[1;31mKeyboardInterrupt\u001b[0m                         Traceback (most recent call last)",
      "\u001b[1;32m<ipython-input-217-8f45db7a3441>\u001b[0m in \u001b[0;36m<module>\u001b[1;34m\u001b[0m\n\u001b[0;32m      6\u001b[0m     \u001b[1;32mfor\u001b[0m \u001b[0mi\u001b[0m \u001b[1;32min\u001b[0m \u001b[0mcinta\u001b[0m\u001b[1;33m:\u001b[0m\u001b[1;33m\u001b[0m\u001b[1;33m\u001b[0m\u001b[0m\n\u001b[0;32m      7\u001b[0m         \u001b[1;32mif\u001b[0m \u001b[0mnueva_posicion\u001b[0m\u001b[1;33m!=\u001b[0m\u001b[0mposicion\u001b[0m\u001b[1;33m:\u001b[0m\u001b[1;33m\u001b[0m\u001b[1;33m\u001b[0m\u001b[0m\n\u001b[1;32m----> 8\u001b[1;33m             \u001b[0mposiciones\u001b[0m\u001b[1;33m.\u001b[0m\u001b[0mappend\u001b[0m\u001b[1;33m(\u001b[0m\u001b[0mnueva_posicion\u001b[0m\u001b[1;33m)\u001b[0m\u001b[1;33m\u001b[0m\u001b[1;33m\u001b[0m\u001b[0m\n\u001b[0m\u001b[0;32m      9\u001b[0m \u001b[0mposiciones\u001b[0m\u001b[1;33m\u001b[0m\u001b[1;33m\u001b[0m\u001b[0m\n",
      "\u001b[1;31mKeyboardInterrupt\u001b[0m: "
     ]
    }
   ],
   "source": [
    "posicion=(random.randint(1,n-1))\n",
    "posiciones=[posicion] #Lista vacía donde voy a guardar las posiciones\n",
    "nueva_posicion = random.randint(0,n-1) #Nueva posicion del robot\n",
    "lista_total=[posicion]\n",
    "\n",
    "if nueva_posicion!=posicion:\n",
    "    posiciones.append(nueva_posicion)\n",
    "\n",
    "while    \n",
    " \n",
    "#for elements in posiciones:\n",
    "        \n",
    "posiciones        "
   ]
  },
  {
   "cell_type": "code",
   "execution_count": 239,
   "metadata": {},
   "outputs": [
    {
     "data": {
      "text/plain": [
       "[2, 2, 2, 2, 2, 2, 2]"
      ]
     },
     "execution_count": 239,
     "metadata": {},
     "output_type": "execute_result"
    }
   ],
   "source": [
    "tablero=[]\n",
    "for i in cinta:\n",
    "    tablero.append(2)\n",
    "tablero    "
   ]
  },
  {
   "cell_type": "code",
   "execution_count": 258,
   "metadata": {},
   "outputs": [
    {
     "data": {
      "image/png": "[encoded data removed]",
      "text/plain": [
       "<Figure size 1080x720 with 1 Axes>"
      ]
     },
     "metadata": {
      "needs_background": "light"
     },
     "output_type": "display_data"
    }
   ],
   "source": [
    "hola=[]\n",
    "i=0\n",
    "while i<len (posiciones):\n",
    "    hola.append(i)\n",
    "    i+=1\n",
    "hola    \n",
    "\n",
    "x=pd.Series(hola)\n",
    "y=pd.Series(posiciones)\n",
    "\n",
    "plt.figure(figsize=(15,10)) #Doy tamaño a una figura\n",
    "plt.plot(x,y, \"r\") #Hago que lea el resultado desde los ndarray\n",
    "plt.xlabel('x') #Le pongo etiqueta a los ejes\n",
    "plt.ylabel('f(x)')\n",
    "plt.title(r\"Grafica de la funcion con objeto ndarray\") #Le digo que le ponga título\n",
    "plt.show() #Muestra la gráfica"
   ]
  },
  {
   "cell_type": "code",
   "execution_count": 259,
   "metadata": {},
   "outputs": [
    {
     "data": {
      "text/plain": [
       "[0, 1, 2, 3, 4, 5, 6, 7, 8, 9, 10, 11, 12, 13, 14, 15, 16, 17, 18, 19]"
      ]
     },
     "execution_count": 259,
     "metadata": {},
     "output_type": "execute_result"
    }
   ],
   "source": [
    "hola"
   ]
  },
  {
   "cell_type": "markdown",
   "metadata": {},
   "source": [
    "***\n",
    "## Área de pruebas para calificación\n",
    "\n",
    "Utilice el siguiente espacio para mostrarnos su implementación terminada."
   ]
  },
  {
   "cell_type": "markdown",
   "metadata": {},
   "source": [
    "<div class=\"alert alert-info\">\n",
    "<b>Pruebe el método \"takeStep\"</b>: <br>\n",
    "</div>"
   ]
  },
  {
   "cell_type": "code",
   "execution_count": 354,
   "metadata": {},
   "outputs": [],
   "source": [
    "nueva_cinta=DrunkenRobot(5)"
   ]
  },
  {
   "cell_type": "code",
   "execution_count": 355,
   "metadata": {},
   "outputs": [
    {
     "data": {
      "text/plain": [
       "[0, 6]"
      ]
     },
     "execution_count": 355,
     "metadata": {},
     "output_type": "execute_result"
    }
   ],
   "source": [
    "nueva_cinta.takeStep()"
   ]
  },
  {
   "cell_type": "markdown",
   "metadata": {},
   "source": [
    "<div class=\"alert alert-info\">\n",
    "<b>Pruebe el método \"conquerAll\"</b>: <br>\n",
    "</div>"
   ]
  },
  {
   "cell_type": "code",
   "execution_count": 356,
   "metadata": {},
   "outputs": [
    {
     "ename": "KeyboardInterrupt",
     "evalue": "",
     "output_type": "error",
     "traceback": [
      "\u001b[1;31m---------------------------------------------------------------------------\u001b[0m",
      "\u001b[1;31mKeyboardInterrupt\u001b[0m                         Traceback (most recent call last)",
      "\u001b[1;32m<ipython-input-356-f62e9d4a4581>\u001b[0m in \u001b[0;36m<module>\u001b[1;34m\u001b[0m\n\u001b[1;32m----> 1\u001b[1;33m \u001b[0mnueva_cinta\u001b[0m\u001b[1;33m.\u001b[0m\u001b[0mconquerAll\u001b[0m\u001b[1;33m(\u001b[0m\u001b[1;33m)\u001b[0m\u001b[1;33m\u001b[0m\u001b[1;33m\u001b[0m\u001b[0m\n\u001b[0m",
      "\u001b[1;32m<ipython-input-353-913fc61cecd2>\u001b[0m in \u001b[0;36mconquerAll\u001b[1;34m(self)\u001b[0m\n\u001b[0;32m     68\u001b[0m \u001b[1;33m\u001b[0m\u001b[0m\n\u001b[0;32m     69\u001b[0m         \u001b[1;32mwhile\u001b[0m \u001b[0mlista_posiciones\u001b[0m\u001b[1;33m!=\u001b[0m\u001b[0mtablero\u001b[0m\u001b[1;33m:\u001b[0m\u001b[1;33m\u001b[0m\u001b[1;33m\u001b[0m\u001b[0m\n\u001b[1;32m---> 70\u001b[1;33m             \u001b[0mtakeStep\u001b[0m\u001b[1;33m(\u001b[0m\u001b[0mself\u001b[0m\u001b[1;33m)\u001b[0m\u001b[1;33m\u001b[0m\u001b[1;33m\u001b[0m\u001b[0m\n\u001b[0m\u001b[0;32m     71\u001b[0m \u001b[1;33m\u001b[0m\u001b[0m\n\u001b[0;32m     72\u001b[0m         \u001b[1;31m#Lo que busco con lo de arrible esque mientras el tablero, sea diferente a la lista de posiciones,\u001b[0m\u001b[1;33m\u001b[0m\u001b[1;33m\u001b[0m\u001b[1;33m\u001b[0m\u001b[0m\n",
      "\u001b[1;32m<ipython-input-327-34856ecd8752>\u001b[0m in \u001b[0;36mtakeStep\u001b[1;34m(self)\u001b[0m\n\u001b[0;32m      7\u001b[0m         '''\n\u001b[0;32m      8\u001b[0m \u001b[1;33m\u001b[0m\u001b[0m\n\u001b[1;32m----> 9\u001b[1;33m         \u001b[0mcinta\u001b[0m\u001b[1;33m=\u001b[0m\u001b[0mnp\u001b[0m\u001b[1;33m.\u001b[0m\u001b[0marange\u001b[0m\u001b[1;33m(\u001b[0m\u001b[0mself\u001b[0m\u001b[1;33m.\u001b[0m\u001b[0mn\u001b[0m\u001b[1;33m)\u001b[0m \u001b[1;31m#Me crea un array en donde tengo la cinta\u001b[0m\u001b[1;33m\u001b[0m\u001b[1;33m\u001b[0m\u001b[0m\n\u001b[0m\u001b[0;32m     10\u001b[0m         \u001b[0mposicion\u001b[0m\u001b[1;33m=\u001b[0m\u001b[0mrandom\u001b[0m\u001b[1;33m.\u001b[0m\u001b[0mrandint\u001b[0m\u001b[1;33m(\u001b[0m\u001b[1;36m0\u001b[0m\u001b[1;33m,\u001b[0m\u001b[0mn\u001b[0m\u001b[1;33m-\u001b[0m\u001b[1;36m1\u001b[0m\u001b[1;33m)\u001b[0m \u001b[1;31m#Me da la posicion de inicio del robot.\u001b[0m\u001b[1;33m\u001b[0m\u001b[1;33m\u001b[0m\u001b[0m\n\u001b[0;32m     11\u001b[0m         \u001b[0mposiciones\u001b[0m\u001b[1;33m=\u001b[0m\u001b[1;33m[\u001b[0m\u001b[0mposicion\u001b[0m\u001b[1;33m]\u001b[0m \u001b[1;31m#Lista vacía donde voy a guardar las posiciones\u001b[0m\u001b[1;33m\u001b[0m\u001b[1;33m\u001b[0m\u001b[0m\n",
      "\u001b[1;31mKeyboardInterrupt\u001b[0m: "
     ]
    }
   ],
   "source": [
    "nueva_cinta.conquerAll()"
   ]
  },
  {
   "cell_type": "markdown",
   "metadata": {},
   "source": [
    "<div class=\"alert alert-info\">\n",
    "<b>Pruebe el método \"plotSteps\"</b>: <br>\n",
    "</div>"
   ]
  },
  {
   "cell_type": "code",
   "execution_count": 329,
   "metadata": {},
   "outputs": [],
   "source": [
    "def plotSteps(self, savePlot=False):\n",
    "        \n",
    "            '''\n",
    "            Realiza una gráfica de la posición del robot (número de casilla)\n",
    "            en cada período. La opción booleana `savePlot` permite\n",
    "            escoger si guardar la gráfica en un formato de alta calidad.\n",
    "            '''\n",
    "            if lista_posiciones==tablero:\n",
    "            \n",
    "                plt.figure(figsize=(8, 6), dpi=100)\n",
    "                plt.subplot(111)\n",
    "\n",
    "                eje_del_tiempo=[]\n",
    "                i=0\n",
    "                while i<len (posiciones):\n",
    "                    posiciones.append(i)\n",
    "                    i+=1\n",
    "                eje_del_tiempo\n",
    "\n",
    "                x=pd.Series(eje_del_tiempo)\n",
    "\n",
    "                y=pd.Series(posiciones)\n",
    "\n",
    "                plt.figure(figsize=(15,10)) #Doy tamaño a una figura\n",
    "                plt.plot(x,y, \"r\") #Hago que lea el resultado desde los ndarray\n",
    "                plt.xlabel('Período') #Le pongo etiqueta a los ejes\n",
    "                plt.ylabel('Posición')\n",
    "                plt.title(r\"Caminata Aleatoria del Robot\") #Le digo que le ponga título\n",
    "                plt.show() #Muestra la gráfica\n",
    "                plt.savefig(\"./caminata_aleatoria.pdf\", format='pdf', dpi=80)\n",
    "\n",
    "            return(plt.show)"
   ]
  },
  {
   "cell_type": "markdown",
   "metadata": {},
   "source": [
    "<div class=\"alert alert-info\">\n",
    "<b>Pruebe el método \"getTrajectory\"</b>: <br>\n",
    "</div>"
   ]
  },
  {
   "cell_type": "code",
   "execution_count": null,
   "metadata": {},
   "outputs": [],
   "source": []
  },
  {
   "cell_type": "markdown",
   "metadata": {},
   "source": [
    "<div class=\"alert alert-info\">\n",
    "<b>Muestre cada uno de los atribujos del objeto utilizado en el ejemplo</b>: <br>\n",
    "</div>"
   ]
  },
  {
   "cell_type": "code",
   "execution_count": null,
   "metadata": {},
   "outputs": [],
   "source": []
  }
 ],
 "metadata": {
  "kernelspec": {
   "display_name": "Python 3",
   "language": "python",
   "name": "python3"
  },
  "language_info": {
   "codemirror_mode": {
    "name": "ipython",
    "version": 3
   },
   "file_extension": ".py",
   "mimetype": "text/x-python",
   "name": "python",
   "nbconvert_exporter": "python",
   "pygments_lexer": "ipython3",
   "version": "3.7.4"
  }
 },
 "nbformat": 4,
 "nbformat_minor": 2
}
